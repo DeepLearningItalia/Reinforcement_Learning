{
 "cells": [
  {
   "cell_type": "markdown",
   "metadata": {},
   "source": [
    "# Notebook n.2"
   ]
  },
  {
   "cell_type": "code",
   "execution_count": null,
   "metadata": {},
   "outputs": [],
   "source": [
    "%matplotlib notebook"
   ]
  },
  {
   "cell_type": "markdown",
   "metadata": {},
   "source": [
    "## Il problema delle monete nel portafoglio"
   ]
  },
  {
   "cell_type": "markdown",
   "metadata": {},
   "source": [
    "Vogliamo risolvere il seguente problema:  da un portafoglio,  contenente **2 monete da €2**, **6 monete da 1** e **10 monete da 0,50**, si estrae una moneta alla volta. Qual è la probabilità che alla **settima estrazione** si estragga **€1**, sapendo che dopo la **sesta estrazione** sono stati estratti in totale **€6**?\n",
    "\n",
    "Per risolverlo utilizzeremo la distribuzione **ipergeometrica multivariata**. Questa distribuzione risponde ad una tipologia di domande un po' differenti. Ad esempio, dato il portafoglio descritto sopra, se ci chiediamo qual è la probabilità $P\\left(1, 4, 5 \\right)$ di estrarre **1 moneta da €2**, **4 monete da €1** e **5 monete da €0,50** in **10** estrazioni, la distribuzione ipergeometrica ci dice che\n",
    "\n",
    "$$P\\left(1,4,5\\right)=\\frac{\\binom{2}{1} \\binom{6}{4} \\binom{10}{5}}{\\binom{18}{10}}$$\n",
    "\n",
    "Come vedremo, utilizzando le **leggi della probabilità**, possiamo ricondurre il problema a domande di questo tipo."
   ]
  },
  {
   "cell_type": "markdown",
   "metadata": {},
   "source": [
    "### Calcolo esatto"
   ]
  },
  {
   "cell_type": "code",
   "execution_count": null,
   "metadata": {},
   "outputs": [],
   "source": [
    "# Calcola la probabilità di estrarre a monete da €2, b monete da €1 e c monete da €0.50\n",
    "# dal portafoglio del problema in a + b + c estrazioni\n",
    "import scipy.special as s\n",
    "def hypergeometric(a, b, c):\n",
    "    A, B, C = 2, 6, 10\n",
    "    return s.binom(A,a)*s.binom(B,b)*s.binom(C,c)/s.binom(A+B+C, a+b+c)"
   ]
  },
  {
   "cell_type": "code",
   "execution_count": null,
   "metadata": {},
   "outputs": [],
   "source": [
    "# Probabilità di estrarre 6€ in 6 estrazioni\n",
    "p_A6_eq_6 = hypergeometric(2,0,4) + hypergeometric(1,3,2) + hypergeometric(0,6,0); p_A6_eq_6"
   ]
  },
  {
   "cell_type": "code",
   "execution_count": null,
   "metadata": {},
   "outputs": [],
   "source": [
    "# Probabilità di estrarre 6€ in 6 estrazioni e 7€ in 7 estrazioni\n",
    "#\n",
    "# 6/12 è la probabilità di estrarre un euro alla settima estrazione dopo aver estratto (2, 0, 4)\n",
    "# 3/12 è la probabilità di estrarre un euro alla settima estrazione dopo aver estratto (1, 3, 2)\n",
    "p_A6_eq_6_E_A7_eq_7 = hypergeometric(2,0,4)*6/12 + hypergeometric(1,3,2)*3/12; p_A6_eq_6_E_A7_eq_7"
   ]
  },
  {
   "cell_type": "code",
   "execution_count": null,
   "metadata": {},
   "outputs": [],
   "source": [
    "# Probabilità di estrarre 7€ in 7 estrazioni dato che si sono estratti 6€ in 6 estrazioni\n",
    "#\n",
    "# P(A | B) = P(A e B) / P(B)\n",
    "p_A7_eq_7_given_A6_eq_6 = p_A6_eq_6_E_A7_eq_7 / p_A6_eq_6; p_A7_eq_7_given_A6_eq_6"
   ]
  },
  {
   "cell_type": "markdown",
   "metadata": {},
   "source": [
    "### Calcolo approssimato tramite simulazione"
   ]
  },
  {
   "cell_type": "markdown",
   "metadata": {},
   "source": [
    "Calcoliamo un'**approssimazione** dei tre valori precedenti usando delle **simulazioni**."
   ]
  },
  {
   "cell_type": "code",
   "execution_count": null,
   "metadata": {},
   "outputs": [],
   "source": [
    "# lista con le monete\n",
    "coins = [2]*2 + [1]*6 +[0.5]*10"
   ]
  },
  {
   "cell_type": "code",
   "execution_count": null,
   "metadata": {},
   "outputs": [],
   "source": [
    "import random"
   ]
  },
  {
   "cell_type": "code",
   "execution_count": null,
   "metadata": {},
   "outputs": [],
   "source": [
    "# probabilità di estarre €6 in 6 estrazioni\n",
    "def get_p_A6_eq_6(n):\n",
    "    m = 0\n",
    "    for i in range(n):\n",
    "        sample = random.sample(coins, 6)\n",
    "        if sum(sample) == 6:\n",
    "            m += 1\n",
    "    return m / n"
   ]
  },
  {
   "cell_type": "code",
   "execution_count": null,
   "metadata": {},
   "outputs": [],
   "source": [
    "# il valore restituito dalla simulazione è vicino\n",
    "# a quello calcolato?\n",
    "get_p_A6_eq_6(1_000_000)"
   ]
  },
  {
   "cell_type": "code",
   "execution_count": null,
   "metadata": {},
   "outputs": [],
   "source": [
    "# probabilità di estarre €6 in 6 estrazioni e €7 in 7 estrazioni\n",
    "def get_p_A6_eq_6_E_A7_eq_7(n):\n",
    "    m = 0\n",
    "    for i in range(n):\n",
    "        sample = random.sample(coins, 7)\n",
    "        if sum(sample[:-1]) == 6 and sum(sample) == 7:\n",
    "            m += 1\n",
    "    return m / n"
   ]
  },
  {
   "cell_type": "code",
   "execution_count": null,
   "metadata": {},
   "outputs": [],
   "source": [
    "get_p_A6_eq_6_E_A7_eq_7(1_000_000)"
   ]
  },
  {
   "cell_type": "code",
   "execution_count": null,
   "metadata": {},
   "outputs": [],
   "source": [
    "# probabilità di estarre €7 in 7 estrazioni sapendo che sono stati estratti €6 in 6 estrazioni\n",
    "def get_p_A7_eq_7_given_A6_eq_6(n):\n",
    "    l, m = 0, 0\n",
    "    for i in range(n):\n",
    "        sample = random.sample(coins, 7)\n",
    "        if sum(sample[:-1]) == 6:\n",
    "            m += 1\n",
    "            if sum(sample) == 7:\n",
    "                l += 1\n",
    "    return l / m"
   ]
  },
  {
   "cell_type": "code",
   "execution_count": null,
   "metadata": {},
   "outputs": [],
   "source": [
    "get_p_A7_eq_7_given_A6_eq_6(1_000_000)"
   ]
  },
  {
   "cell_type": "markdown",
   "metadata": {},
   "source": [
    "### Calcolo ricorsivo della probabilità ipergeometrica"
   ]
  },
  {
   "cell_type": "code",
   "execution_count": null,
   "metadata": {},
   "outputs": [],
   "source": [
    "def hypergeometric_recursive(ns, Ns):\n",
    "    '''Calcola ricorsivamente la probabilità ipergeometrica\n",
    "    \n",
    "    Args\n",
    "    ----\n",
    "    Ns - E' una lista che rappresenta le biglie nell'urna. L'elemento i-esimo \n",
    "         è il numero di biglie dell'i-esimo colore nell'urna\n",
    "    ns - E' una lista che rappresenta un'estrazione. L'elemento i-esimo è il \n",
    "         numero di biglie dell'i-esimo colore estratte\n",
    "         \n",
    "    Returns\n",
    "    -------\n",
    "    probability - probabilità di ottenere  l'estrazione descritta da ns\n",
    "                  data un'urna descritta da Ns\n",
    "    '''\n",
    "    if sum(ns) == 0:\n",
    "        return 1\n",
    "    \n",
    "    remained_coins = sum(Ns) - sum(ns) + 1\n",
    "    \n",
    "    ret_value = 0\n",
    "    for i, (n, N) in enumerate(zip(ns, Ns)):\n",
    "        if n > 0:\n",
    "            ns_ = ns.copy()\n",
    "            ns_[i] -= 1\n",
    "            ret_value += (N-n+1)/remained_coins * hypergeometric_recursive(ns_, Ns)\n",
    "        \n",
    "    return ret_value"
   ]
  },
  {
   "cell_type": "code",
   "execution_count": null,
   "metadata": {},
   "outputs": [],
   "source": [
    "hypergeometric_recursive([2, 4, 5], [2, 6, 10])"
   ]
  },
  {
   "cell_type": "code",
   "execution_count": null,
   "metadata": {},
   "outputs": [],
   "source": [
    "hypergeometric(2, 4, 5)"
   ]
  },
  {
   "cell_type": "markdown",
   "metadata": {},
   "source": [
    "## Serie geometrica\n",
    "\n",
    "$$\\sum_{n=0}^{\\infty }q^{n}=\\frac{1}{1-q} \\;\\;  \\textrm{se} \\;\\; \\left | q \\right |<1$$"
   ]
  },
  {
   "cell_type": "markdown",
   "metadata": {},
   "source": [
    "<img src=\"img/serie_geometrica.png\" alt=\"Serie geometrica\" style=\"width: 400px;\"/>\n",
    "<center><strong>Dimostrazione grafica</strong> della convergenza della serie geometrica.</center>"
   ]
  },
  {
   "cell_type": "code",
   "execution_count": null,
   "metadata": {},
   "outputs": [],
   "source": [
    "def geometric_partial_sums(q, n):\n",
    "    '''Ritorna le somme parziali di una serie geometrica\n",
    "    \n",
    "    Args\n",
    "    ----\n",
    "    q - la ragione della serie geometrica\n",
    "    n - il numero di addendi da sommare (fino a q^(n-1))\n",
    "    \n",
    "    Returns\n",
    "    -------\n",
    "    partial_sums - una lista di lunghezza n con le somme parziali\n",
    "                   partial_sums = [1, 1 + q, 1 + q + q^2, ...]\n",
    "    '''\n",
    "    sum_ = 0\n",
    "    partial_sums = []\n",
    "    for i in range(n):\n",
    "        sum_ += q**i\n",
    "        partial_sums.append(sum_)\n",
    "    return partial_sums"
   ]
  },
  {
   "cell_type": "markdown",
   "metadata": {},
   "source": [
    "Studiate **graficamente** il **comportamento** della serie se\n",
    "\n",
    "* $q < -1$\n",
    "* $q = -1$\n",
    "* $ -1 < q < 1$\n",
    "* $q >= 1$"
   ]
  },
  {
   "cell_type": "code",
   "execution_count": null,
   "metadata": {},
   "outputs": [],
   "source": [
    "import matplotlib.pyplot as plt\n",
    "\n",
    "q = 0.5\n",
    "n = 100\n",
    "partial_sums = geometric_partial_sums(q, n)\n",
    "plt.plot(partial_sums)\n",
    "plt.plot([1/(1-q)]*len(partial_sums)) # valore limite"
   ]
  },
  {
   "cell_type": "markdown",
   "metadata": {},
   "source": [
    "## Mondo griglia\n",
    "\n",
    "Nelle lezioni di **teoria** avete visto il **Mondo Griglia**."
   ]
  },
  {
   "cell_type": "markdown",
   "metadata": {},
   "source": [
    "<img src=\"img/gridworld.png\" alt=\"Mondo griglia\" style=\"width: 600px;\"/>\n",
    "\n",
    "<center>Immagine tratta dal libro di <a href=\"http://incompleteideas.net/book/RLbook2018.pdf\">Reinforcement Learning: An Introduction</a> di <strong>R. Sutton</strong>.</center>"
   ]
  },
  {
   "cell_type": "markdown",
   "metadata": {},
   "source": [
    "In questa sezione impareremo a:\n",
    "\n",
    "* trovare il **valore** di ogni **stato** data una policy\n",
    "* utilizzare i valori ottenuti per **migliorare** la policy\n",
    "* trovare una policy **ottimale**"
   ]
  },
  {
   "cell_type": "markdown",
   "metadata": {},
   "source": [
    "### Valutazione di una policy"
   ]
  },
  {
   "cell_type": "code",
   "execution_count": null,
   "metadata": {},
   "outputs": [],
   "source": [
    "# restituisce la policy uniforme, cioè quella che in ogni stato\n",
    "# assegna la stessa probabilità alle 4 direzioni\n",
    "def get_uniform_random_policy():\n",
    "    policy = dict()\n",
    "    for i in range(5):\n",
    "        for j in range(5):\n",
    "            policy[(i, j)] = {\"L\" : 1/4, \"R\" : 1/4, \"U\" : 1/4, \"D\" : 1/4}\n",
    "    return policy"
   ]
  },
  {
   "cell_type": "code",
   "execution_count": null,
   "metadata": {},
   "outputs": [],
   "source": [
    "uniform_random_policy = get_uniform_random_policy()"
   ]
  },
  {
   "cell_type": "code",
   "execution_count": null,
   "metadata": {},
   "outputs": [],
   "source": [
    "# spostamento (di, dj) associato ad ogni azione\n",
    "#\n",
    "# ad esempio quando ci si sposta a sinistra (L)\n",
    "# la coordinata verticale non cambia, mentre quella\n",
    "# orizzontake diminuisce di 1\n",
    "direction = {\"L\" : (0, -1), \"R\" : (0, 1), \"U\" : (-1, 0), \"D\" : (1, 0)}"
   ]
  },
  {
   "cell_type": "code",
   "execution_count": null,
   "metadata": {},
   "outputs": [],
   "source": [
    "import numpy as np\n",
    "def create_system_coefficients(policy, discount_factor=1):\n",
    "    '''Crea il sistema risolvendo il quale si trovano i valori dei 25 stati\n",
    "    \n",
    "    Args\n",
    "    ----\n",
    "    policy - una dizionario che rappresenta una policy (vedi la rappresentazione della policy uniforme)\n",
    "    discount_factor - il fattore di sconto\n",
    "    \n",
    "    Return\n",
    "    ------\n",
    "    A - la matrice dei coefficienti del sistema (matrice numpy 25 x 25)\n",
    "    b - il vettore dei termini noti (vettore unidimensionale numpy di 25 elementi)\n",
    "    '''\n",
    "    A = np.eye(25)\n",
    "    b = np.zeros(25)\n",
    "    for i in range(5):\n",
    "        for j in range(5):\n",
    "            n = i*5 + j # numero della casella\n",
    "            if n == 1 or n == 3:\n",
    "                # casella con teletrasporto\n",
    "                continue\n",
    "            for action in \"LRUD\":\n",
    "                    di, dj = direction[action]\n",
    "                    action_prob = policy[(i,j)][action]\n",
    "                    if (0 <= i+di <= 4) and (0 <= j+dj <= 4):\n",
    "                        A[n, (i+di)*5 + (j+dj)]  -= discount_factor*action_prob\n",
    "                    else:\n",
    "                        # la casella di destinazione è fuori dalla griglia\n",
    "                        b[n] -= action_prob\n",
    "                        A[n, n] -= discount_factor*action_prob\n",
    "    # casella A\n",
    "    A[1, 21] = -discount_factor\n",
    "    b[1] = 10\n",
    "    \n",
    "    # casella B\n",
    "    A[3, 13] = -discount_factor\n",
    "    b[3] = 5\n",
    "                        \n",
    "    return A, b  "
   ]
  },
  {
   "cell_type": "code",
   "execution_count": null,
   "metadata": {},
   "outputs": [],
   "source": [
    "A, b = create_system_coefficients(uniform_random_policy)"
   ]
  },
  {
   "cell_type": "code",
   "execution_count": null,
   "metadata": {},
   "outputs": [],
   "source": [
    "np.linalg.matrix_rank(A)"
   ]
  },
  {
   "cell_type": "code",
   "execution_count": null,
   "metadata": {},
   "outputs": [],
   "source": [
    "np.linalg.matrix_rank(np.concatenate((A, np.reshape(b, (25, 1))), axis=1))"
   ]
  },
  {
   "cell_type": "code",
   "execution_count": null,
   "metadata": {},
   "outputs": [],
   "source": [
    "A, b = create_system_coefficients(uniform_random_policy, 0.9)"
   ]
  },
  {
   "cell_type": "code",
   "execution_count": null,
   "metadata": {},
   "outputs": [],
   "source": [
    "np.linalg.matrix_rank(A)"
   ]
  },
  {
   "cell_type": "code",
   "execution_count": null,
   "metadata": {},
   "outputs": [],
   "source": [
    "policy_evaluation = np.linalg.solve(A, b).reshape((5, 5)); policy_evaluation"
   ]
  },
  {
   "cell_type": "markdown",
   "metadata": {},
   "source": [
    "### Costruzione di una policy migliore"
   ]
  },
  {
   "cell_type": "code",
   "execution_count": null,
   "metadata": {},
   "outputs": [],
   "source": [
    "def get_better_policy(policy_evaluation, discount_factor):\n",
    "    '''Trova la policy migliore data una valiutazione degli stati\n",
    "    \n",
    "    Args\n",
    "    ----\n",
    "    policy_evaluation - una matrice numpy 5 x 5 con i valori degli stati (relativi ad una certa policy).\n",
    "                        In policy_evaluation[i, j] i è l'indice di riga (dall'alto verso il basso, da 0 a 4)\n",
    "                        e j è l'indice di colonna (da sinistra a destra, da 0 a 4)\n",
    "    discount_factor - il fattore di sconto        \n",
    "    \n",
    "    Return\n",
    "    ------\n",
    "    better_policy - La policy migliore dati i valori degli stati contenuto in policy_evaluation.\n",
    "    '''\n",
    "    def evaluate_actions(i, j):\n",
    "        if (i, j) == (0, 1):\n",
    "            val = 10 + policy_evaluation[4, 1]\n",
    "            return {\"L\" : val, \"R\" : val, \"U\" : val, \"D\" : val}\n",
    "        if (i, j) == (0, 3):\n",
    "            val = 5 + policy_evaluation[2, 3]\n",
    "            return {\"L\" : val, \"R\" : val, \"U\" : val, \"D\" : val}\n",
    "        values = dict()\n",
    "        for action in \"LRUD\":\n",
    "            di, dj = direction[action]\n",
    "            if (0 <= i+di <= 4) and (0 <= j+dj <= 4):\n",
    "                values[action] = discount_factor*policy_evaluation[i+di, j+dj]\n",
    "            else:\n",
    "                values[action] = -1 + discount_factor*policy_evaluation[i, j]\n",
    "        return values\n",
    "                \n",
    "    better_policy = dict()\n",
    "    for i in range(5):\n",
    "        for j in range(5):\n",
    "            # dizionario con i valori delle azioni per questa casella\n",
    "            actions_values = evaluate_actions(i, j)\n",
    "            first_best_action = [action for action in actions_values if actions_values[action] \\\n",
    "                                 == max(actions_values.values())][0]\n",
    "            # dizionario con la probabilità di ogni azione per questa casella\n",
    "            better_policy_actions = dict()\n",
    "            for action in \"LRUD\":\n",
    "                # le azioni migliori hanno la stessa probabilità\n",
    "                better_policy_actions[action] = 1 if action == first_best_action else 0\n",
    "            better_policy[(i, j)] = better_policy_actions\n",
    "                      \n",
    "    return better_policy\n",
    "                "
   ]
  },
  {
   "cell_type": "code",
   "execution_count": null,
   "metadata": {},
   "outputs": [],
   "source": [
    "better_policy = get_better_policy(policy_evaluation, discount_factor=0.9); better_policy"
   ]
  },
  {
   "cell_type": "markdown",
   "metadata": {},
   "source": [
    "### Costruzione di una policy ottimale"
   ]
  },
  {
   "cell_type": "code",
   "execution_count": null,
   "metadata": {},
   "outputs": [],
   "source": [
    "# Determina l'uguaglinza o meno di due policy\n",
    "def policies_are_equal(policy_1, policy_2):\n",
    "    for square, actions_dict in policy_1.items():\n",
    "        for action, value in actions_dict.items():\n",
    "            if policy_2[square][action] != value:\n",
    "                return False\n",
    "    return True"
   ]
  },
  {
   "cell_type": "code",
   "execution_count": null,
   "metadata": {},
   "outputs": [],
   "source": [
    "# iteriamo lo step di valutazione e quello di miglioramento fino a convergenza\n",
    "policy = get_uniform_random_policy()\n",
    "discount_factor = 0.9\n",
    "while True:\n",
    "    A, b = create_system_coefficients(policy, discount_factor)\n",
    "    policy_evaluation = np.linalg.solve(A, b).reshape((5, 5))\n",
    "    new_policy = get_better_policy(policy_evaluation, discount_factor)\n",
    "    if policies_are_equal(policy, new_policy):\n",
    "        break\n",
    "    else:\n",
    "        policy = new_policy\n",
    "policy"
   ]
  }
 ],
 "metadata": {
  "kernelspec": {
   "display_name": "Python 3",
   "language": "python",
   "name": "python3"
  },
  "language_info": {
   "codemirror_mode": {
    "name": "ipython",
    "version": 3
   },
   "file_extension": ".py",
   "mimetype": "text/x-python",
   "name": "python",
   "nbconvert_exporter": "python",
   "pygments_lexer": "ipython3",
   "version": "3.7.3"
  }
 },
 "nbformat": 4,
 "nbformat_minor": 2
}
