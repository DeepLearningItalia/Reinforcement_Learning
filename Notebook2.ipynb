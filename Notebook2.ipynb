{
 "cells": [
  {
   "cell_type": "markdown",
   "metadata": {},
   "source": [
    "# Notebook n.2"
   ]
  },
  {
   "cell_type": "code",
   "execution_count": 1,
   "metadata": {},
   "outputs": [],
   "source": [
    "%matplotlib notebook"
   ]
  },
  {
   "cell_type": "markdown",
   "metadata": {},
   "source": [
    "## Il problema delle monete nel portafoglio"
   ]
  },
  {
   "cell_type": "markdown",
   "metadata": {},
   "source": [
    "Vogliamo risolvere il seguente problema:  da un portafoglio,  contenente **2 monete da €2**, **6 monete da 1** e **10 monete da 0,50**, si estrae una moneta alla volta. Qual è la probabilità che alla **settima estrazione** si estragga **€1**, sapendo che dopo la **sesta estrazione** sono stati estratti in totale **€6**?\n",
    "\n",
    "Per risolverlo utilizzeremo la distribuzione **ipergeometrica multivariata**. Questa distribuzione risponde ad una tipologia di domande un po' differenti. Ad esempio, dato il portafoglio descritto sopra, se ci chiediamo qual è la probabilità $P\\left(1, 4, 5 \\right)$ di estrarre **1 moneta da €2**, **4 monete da €1** e **5 monete da €0,50** in **10** estrazioni, la distribuzione ipergeometrica ci dice che\n",
    "\n",
    "$$P\\left(1,4,5\\right)=\\frac{\\binom{2}{1} \\binom{6}{4} \\binom{10}{5}}{\\binom{18}{10}}$$\n",
    "\n",
    "Come vedremo, utilizzando le **leggi della probabilità**, possiamo ricondurre il problema a domande di questo tipo."
   ]
  },
  {
   "cell_type": "markdown",
   "metadata": {},
   "source": [
    "### Calcolo esatto"
   ]
  },
  {
   "cell_type": "code",
   "execution_count": 2,
   "metadata": {},
   "outputs": [],
   "source": [
    "# Calcola la probabilità di estrarre a monete da €2, b monete da €1 e c monete da €0.50\n",
    "# dal portafoglio del problema in a + b + c estrazioni\n",
    "import scipy.special as s\n",
    "def hypergeometric(a, b, c):\n",
    "    A, B, C = 2, 6, 10\n",
    "    return s.binom(A,a)*s.binom(B,b)*s.binom(C,c)/s.binom(A+B+C, a+b+c)"
   ]
  },
  {
   "cell_type": "code",
   "execution_count": 3,
   "metadata": {},
   "outputs": [
    {
     "data": {
      "text/plain": [
       "0.10832794656324068"
      ]
     },
     "execution_count": 3,
     "metadata": {},
     "output_type": "execute_result"
    }
   ],
   "source": [
    "# Probabilità di estrarre 6€ in 6 estrazioni\n",
    "p_A6_eq_6 = hypergeometric(2,0,4) + hypergeometric(1,3,2) + hypergeometric(0,6,0); p_A6_eq_6"
   ]
  },
  {
   "cell_type": "code",
   "execution_count": 4,
   "metadata": {},
   "outputs": [
    {
     "data": {
      "text/plain": [
       "0.029896574014221074"
      ]
     },
     "execution_count": 4,
     "metadata": {},
     "output_type": "execute_result"
    }
   ],
   "source": [
    "# Probabilità di estrarre 6€ in 6 estrazioni e 7€ in 7 estrazioni\n",
    "#\n",
    "# 6/12 è la probabilità di estrarre un euro alla settima estrazione dopo aver estratto (2, 0, 4)\n",
    "# 3/12 è la probabilità di estrarre un euro alla settima estrazione dopo aver estratto (1, 3, 2)\n",
    "p_A6_eq_6_E_A7_eq_7 = hypergeometric(2,0,4)*6/12 + hypergeometric(1,3,2)*3/12; p_A6_eq_6_E_A7_eq_7"
   ]
  },
  {
   "cell_type": "code",
   "execution_count": 5,
   "metadata": {},
   "outputs": [
    {
     "data": {
      "text/plain": [
       "0.2759820984584784"
      ]
     },
     "execution_count": 5,
     "metadata": {},
     "output_type": "execute_result"
    }
   ],
   "source": [
    "# Probabilità di estrarre 7€ in 7 estrazioni dato che si sono estratti 6€ in 6 estrazioni\n",
    "#\n",
    "# P(A | B) = P(A e B) / P(B)\n",
    "p_A7_eq_7_given_A6_eq_6 = p_A6_eq_6_E_A7_eq_7 / p_A6_eq_6; p_A7_eq_7_given_A6_eq_6"
   ]
  },
  {
   "cell_type": "markdown",
   "metadata": {},
   "source": [
    "### Calcolo approssimato tramite simulazione"
   ]
  },
  {
   "cell_type": "markdown",
   "metadata": {},
   "source": [
    "Calcoliamo un'**approssimazione** dei tre valori precedenti usando delle **simulazioni**."
   ]
  },
  {
   "cell_type": "code",
   "execution_count": 6,
   "metadata": {},
   "outputs": [
    {
     "data": {
      "text/plain": [
       "[2, 2, 1, 1, 1, 1, 1, 1, 0.5, 0.5, 0.5, 0.5, 0.5, 0.5, 0.5, 0.5, 0.5, 0.5]"
      ]
     },
     "execution_count": 6,
     "metadata": {},
     "output_type": "execute_result"
    }
   ],
   "source": [
    "# lista con le monete\n",
    "coins = [2]*2 + [1]*6 +[0.5]*10; coins"
   ]
  },
  {
   "cell_type": "code",
   "execution_count": 7,
   "metadata": {},
   "outputs": [],
   "source": [
    "import random"
   ]
  },
  {
   "cell_type": "code",
   "execution_count": 8,
   "metadata": {},
   "outputs": [],
   "source": [
    "# probabilità di estarre €6 in 6 estrazioni\n",
    "def get_p_A6_eq_6(n):\n",
    "    m = 0\n",
    "    for i in range(n):\n",
    "        sample = random.sample(coins, 6)\n",
    "        if sum(sample) == 6:\n",
    "            m += 1\n",
    "    return m / n"
   ]
  },
  {
   "cell_type": "code",
   "execution_count": 9,
   "metadata": {},
   "outputs": [
    {
     "data": {
      "text/plain": [
       "0.108423"
      ]
     },
     "execution_count": 9,
     "metadata": {},
     "output_type": "execute_result"
    }
   ],
   "source": [
    "# il valore restituito dalla simulazione è vicino\n",
    "# a quello calcolato?\n",
    "get_p_A6_eq_6(1_000_000)"
   ]
  },
  {
   "cell_type": "code",
   "execution_count": 10,
   "metadata": {},
   "outputs": [],
   "source": [
    "# probabilità di estarre €6 in 6 estrazioni e €7 in 7 estrazioni\n",
    "def get_p_A6_eq_6_E_A7_eq_7(n):\n",
    "    m = 0\n",
    "    for i in range(n):\n",
    "        sample = random.sample(coins, 7)\n",
    "        if sum(sample[:-1]) == 6 and sum(sample) == 7:\n",
    "            m += 1\n",
    "    return m / n"
   ]
  },
  {
   "cell_type": "code",
   "execution_count": 11,
   "metadata": {},
   "outputs": [
    {
     "data": {
      "text/plain": [
       "0.029959"
      ]
     },
     "execution_count": 11,
     "metadata": {},
     "output_type": "execute_result"
    }
   ],
   "source": [
    "get_p_A6_eq_6_E_A7_eq_7(1_000_000)"
   ]
  },
  {
   "cell_type": "code",
   "execution_count": 12,
   "metadata": {},
   "outputs": [],
   "source": [
    "# probabilità di estarre €7 in 7 estrazioni sapendo che sono stati estratti €6 in 6 estrazioni\n",
    "def get_p_A7_eq_7_given_A6_eq_6(n):\n",
    "    l, m = 0, 0\n",
    "    for i in range(n):\n",
    "        sample = random.sample(coins, 7)\n",
    "        if sum(sample[:-1]) == 6:\n",
    "            m += 1\n",
    "            if sum(sample) == 7:\n",
    "                l +=1 \n",
    "    return l / m"
   ]
  },
  {
   "cell_type": "code",
   "execution_count": 13,
   "metadata": {},
   "outputs": [
    {
     "data": {
      "text/plain": [
       "0.2745069138008862"
      ]
     },
     "execution_count": 13,
     "metadata": {},
     "output_type": "execute_result"
    }
   ],
   "source": [
    "get_p_A7_eq_7_given_A6_eq_6(1_000_000)"
   ]
  },
  {
   "cell_type": "markdown",
   "metadata": {},
   "source": [
    "### Calcolo ricorsivo della probabilità ipergeometrica"
   ]
  },
  {
   "cell_type": "code",
   "execution_count": 14,
   "metadata": {},
   "outputs": [],
   "source": [
    "def hypergeometric_recursive(ns, Ns):\n",
    "    '''Calcola ricorsivamente la probabilità ipergeometrica\n",
    "    \n",
    "    Args\n",
    "    ----\n",
    "    Ns - E' una lista che rappresenta le biglie nell'urna. L'elemento i-esimo \n",
    "         è il numero di biglie dell'i-esimo colore nell'urna\n",
    "    ns - E' una lista che rappresenta un'estrazione. L'elemento i-esimo è il \n",
    "         numero di biglie dell'i-esimo colore estratte\n",
    "         \n",
    "    Returns\n",
    "    -------\n",
    "    probability - probabilità di ottenere  l'estrazione descritta da ns\n",
    "                  data un'urna descritta da Ns\n",
    "    '''\n",
    "    if sum(ns) == 0:\n",
    "        return 1\n",
    "    \n",
    "    remained_coins = sum(Ns) - sum(ns) + 1\n",
    "    ret_value = 0\n",
    "    for i, (n, N) in enumerate(zip(ns, Ns)):\n",
    "        if n > 0:\n",
    "            ns_ = ns.copy()\n",
    "            ns_[i] -= 1\n",
    "            ret_value += (N-n+1)/remained_coins * hypergeometric_recursive(ns_, Ns)\n",
    "            \n",
    "    return ret_value"
   ]
  },
  {
   "cell_type": "code",
   "execution_count": 15,
   "metadata": {},
   "outputs": [
    {
     "data": {
      "text/plain": [
       "0.11877828054298642"
      ]
     },
     "execution_count": 15,
     "metadata": {},
     "output_type": "execute_result"
    }
   ],
   "source": [
    "hypergeometric_recursive([2, 4, 5], [2, 6, 10])"
   ]
  },
  {
   "cell_type": "code",
   "execution_count": 16,
   "metadata": {},
   "outputs": [
    {
     "data": {
      "text/plain": [
       "0.11877828054298642"
      ]
     },
     "execution_count": 16,
     "metadata": {},
     "output_type": "execute_result"
    }
   ],
   "source": [
    "hypergeometric(2, 4, 5)"
   ]
  },
  {
   "cell_type": "markdown",
   "metadata": {},
   "source": [
    "## Serie geometrica\n",
    "\n",
    "$$\\sum_{n=0}^{\\infty }q^{n}=\\frac{1}{1-q} \\;\\;  \\textrm{se} \\;\\; \\left | q \\right |<1$$"
   ]
  },
  {
   "cell_type": "markdown",
   "metadata": {},
   "source": [
    "<img src=\"img/serie_geometrica.png\" alt=\"Serie geometrica\" style=\"width: 400px;\"/>\n",
    "<center><strong>Dimostrazione grafica</strong> della convergenza della serie geometrica.</center>"
   ]
  },
  {
   "cell_type": "code",
   "execution_count": 17,
   "metadata": {},
   "outputs": [],
   "source": [
    "def geometric_partial_sums(q, n):\n",
    "    '''Ritorna le somme parziali di una serie geometrica\n",
    "    \n",
    "    Args\n",
    "    ----\n",
    "    q - la ragione della serie geometrica\n",
    "    n - il numero di addendi da sommare (fino a q^(n-1))\n",
    "    \n",
    "    Returns\n",
    "    -------\n",
    "    partial_sums - una lista di lunghezza n con le somme parziali\n",
    "                   partial_sums = [1, 1 + q, 1 + q + q^2, ...]\n",
    "    '''\n",
    "    sum_ = 0\n",
    "    partial_sums = []\n",
    "    for i in range(n):\n",
    "        sum_ += q**i\n",
    "        partial_sums.append(sum_)\n",
    "    return partial_sums"
   ]
  },
  {
   "cell_type": "markdown",
   "metadata": {},
   "source": [
    "Studiate **graficamente** il **comportamento** della serie se\n",
    "\n",
    "* $q < -1$\n",
    "* $q = -1$\n",
    "* $ -1 < q < 1$\n",
    "* $q >= 1$"
   ]
  },
  {
   "cell_type": "code",
   "execution_count": 18,
   "metadata": {},
   "outputs": [
    {
     "data": {
      "application/javascript": [
       "/* Put everything inside the global mpl namespace */\n",
       "window.mpl = {};\n",
       "\n",
       "\n",
       "mpl.get_websocket_type = function() {\n",
       "    if (typeof(WebSocket) !== 'undefined') {\n",
       "        return WebSocket;\n",
       "    } else if (typeof(MozWebSocket) !== 'undefined') {\n",
       "        return MozWebSocket;\n",
       "    } else {\n",
       "        alert('Your browser does not have WebSocket support.' +\n",
       "              'Please try Chrome, Safari or Firefox ≥ 6. ' +\n",
       "              'Firefox 4 and 5 are also supported but you ' +\n",
       "              'have to enable WebSockets in about:config.');\n",
       "    };\n",
       "}\n",
       "\n",
       "mpl.figure = function(figure_id, websocket, ondownload, parent_element) {\n",
       "    this.id = figure_id;\n",
       "\n",
       "    this.ws = websocket;\n",
       "\n",
       "    this.supports_binary = (this.ws.binaryType != undefined);\n",
       "\n",
       "    if (!this.supports_binary) {\n",
       "        var warnings = document.getElementById(\"mpl-warnings\");\n",
       "        if (warnings) {\n",
       "            warnings.style.display = 'block';\n",
       "            warnings.textContent = (\n",
       "                \"This browser does not support binary websocket messages. \" +\n",
       "                    \"Performance may be slow.\");\n",
       "        }\n",
       "    }\n",
       "\n",
       "    this.imageObj = new Image();\n",
       "\n",
       "    this.context = undefined;\n",
       "    this.message = undefined;\n",
       "    this.canvas = undefined;\n",
       "    this.rubberband_canvas = undefined;\n",
       "    this.rubberband_context = undefined;\n",
       "    this.format_dropdown = undefined;\n",
       "\n",
       "    this.image_mode = 'full';\n",
       "\n",
       "    this.root = $('<div/>');\n",
       "    this._root_extra_style(this.root)\n",
       "    this.root.attr('style', 'display: inline-block');\n",
       "\n",
       "    $(parent_element).append(this.root);\n",
       "\n",
       "    this._init_header(this);\n",
       "    this._init_canvas(this);\n",
       "    this._init_toolbar(this);\n",
       "\n",
       "    var fig = this;\n",
       "\n",
       "    this.waiting = false;\n",
       "\n",
       "    this.ws.onopen =  function () {\n",
       "            fig.send_message(\"supports_binary\", {value: fig.supports_binary});\n",
       "            fig.send_message(\"send_image_mode\", {});\n",
       "            if (mpl.ratio != 1) {\n",
       "                fig.send_message(\"set_dpi_ratio\", {'dpi_ratio': mpl.ratio});\n",
       "            }\n",
       "            fig.send_message(\"refresh\", {});\n",
       "        }\n",
       "\n",
       "    this.imageObj.onload = function() {\n",
       "            if (fig.image_mode == 'full') {\n",
       "                // Full images could contain transparency (where diff images\n",
       "                // almost always do), so we need to clear the canvas so that\n",
       "                // there is no ghosting.\n",
       "                fig.context.clearRect(0, 0, fig.canvas.width, fig.canvas.height);\n",
       "            }\n",
       "            fig.context.drawImage(fig.imageObj, 0, 0);\n",
       "        };\n",
       "\n",
       "    this.imageObj.onunload = function() {\n",
       "        fig.ws.close();\n",
       "    }\n",
       "\n",
       "    this.ws.onmessage = this._make_on_message_function(this);\n",
       "\n",
       "    this.ondownload = ondownload;\n",
       "}\n",
       "\n",
       "mpl.figure.prototype._init_header = function() {\n",
       "    var titlebar = $(\n",
       "        '<div class=\"ui-dialog-titlebar ui-widget-header ui-corner-all ' +\n",
       "        'ui-helper-clearfix\"/>');\n",
       "    var titletext = $(\n",
       "        '<div class=\"ui-dialog-title\" style=\"width: 100%; ' +\n",
       "        'text-align: center; padding: 3px;\"/>');\n",
       "    titlebar.append(titletext)\n",
       "    this.root.append(titlebar);\n",
       "    this.header = titletext[0];\n",
       "}\n",
       "\n",
       "\n",
       "\n",
       "mpl.figure.prototype._canvas_extra_style = function(canvas_div) {\n",
       "\n",
       "}\n",
       "\n",
       "\n",
       "mpl.figure.prototype._root_extra_style = function(canvas_div) {\n",
       "\n",
       "}\n",
       "\n",
       "mpl.figure.prototype._init_canvas = function() {\n",
       "    var fig = this;\n",
       "\n",
       "    var canvas_div = $('<div/>');\n",
       "\n",
       "    canvas_div.attr('style', 'position: relative; clear: both; outline: 0');\n",
       "\n",
       "    function canvas_keyboard_event(event) {\n",
       "        return fig.key_event(event, event['data']);\n",
       "    }\n",
       "\n",
       "    canvas_div.keydown('key_press', canvas_keyboard_event);\n",
       "    canvas_div.keyup('key_release', canvas_keyboard_event);\n",
       "    this.canvas_div = canvas_div\n",
       "    this._canvas_extra_style(canvas_div)\n",
       "    this.root.append(canvas_div);\n",
       "\n",
       "    var canvas = $('<canvas/>');\n",
       "    canvas.addClass('mpl-canvas');\n",
       "    canvas.attr('style', \"left: 0; top: 0; z-index: 0; outline: 0\")\n",
       "\n",
       "    this.canvas = canvas[0];\n",
       "    this.context = canvas[0].getContext(\"2d\");\n",
       "\n",
       "    var backingStore = this.context.backingStorePixelRatio ||\n",
       "\tthis.context.webkitBackingStorePixelRatio ||\n",
       "\tthis.context.mozBackingStorePixelRatio ||\n",
       "\tthis.context.msBackingStorePixelRatio ||\n",
       "\tthis.context.oBackingStorePixelRatio ||\n",
       "\tthis.context.backingStorePixelRatio || 1;\n",
       "\n",
       "    mpl.ratio = (window.devicePixelRatio || 1) / backingStore;\n",
       "\n",
       "    var rubberband = $('<canvas/>');\n",
       "    rubberband.attr('style', \"position: absolute; left: 0; top: 0; z-index: 1;\")\n",
       "\n",
       "    var pass_mouse_events = true;\n",
       "\n",
       "    canvas_div.resizable({\n",
       "        start: function(event, ui) {\n",
       "            pass_mouse_events = false;\n",
       "        },\n",
       "        resize: function(event, ui) {\n",
       "            fig.request_resize(ui.size.width, ui.size.height);\n",
       "        },\n",
       "        stop: function(event, ui) {\n",
       "            pass_mouse_events = true;\n",
       "            fig.request_resize(ui.size.width, ui.size.height);\n",
       "        },\n",
       "    });\n",
       "\n",
       "    function mouse_event_fn(event) {\n",
       "        if (pass_mouse_events)\n",
       "            return fig.mouse_event(event, event['data']);\n",
       "    }\n",
       "\n",
       "    rubberband.mousedown('button_press', mouse_event_fn);\n",
       "    rubberband.mouseup('button_release', mouse_event_fn);\n",
       "    // Throttle sequential mouse events to 1 every 20ms.\n",
       "    rubberband.mousemove('motion_notify', mouse_event_fn);\n",
       "\n",
       "    rubberband.mouseenter('figure_enter', mouse_event_fn);\n",
       "    rubberband.mouseleave('figure_leave', mouse_event_fn);\n",
       "\n",
       "    canvas_div.on(\"wheel\", function (event) {\n",
       "        event = event.originalEvent;\n",
       "        event['data'] = 'scroll'\n",
       "        if (event.deltaY < 0) {\n",
       "            event.step = 1;\n",
       "        } else {\n",
       "            event.step = -1;\n",
       "        }\n",
       "        mouse_event_fn(event);\n",
       "    });\n",
       "\n",
       "    canvas_div.append(canvas);\n",
       "    canvas_div.append(rubberband);\n",
       "\n",
       "    this.rubberband = rubberband;\n",
       "    this.rubberband_canvas = rubberband[0];\n",
       "    this.rubberband_context = rubberband[0].getContext(\"2d\");\n",
       "    this.rubberband_context.strokeStyle = \"#000000\";\n",
       "\n",
       "    this._resize_canvas = function(width, height) {\n",
       "        // Keep the size of the canvas, canvas container, and rubber band\n",
       "        // canvas in synch.\n",
       "        canvas_div.css('width', width)\n",
       "        canvas_div.css('height', height)\n",
       "\n",
       "        canvas.attr('width', width * mpl.ratio);\n",
       "        canvas.attr('height', height * mpl.ratio);\n",
       "        canvas.attr('style', 'width: ' + width + 'px; height: ' + height + 'px;');\n",
       "\n",
       "        rubberband.attr('width', width);\n",
       "        rubberband.attr('height', height);\n",
       "    }\n",
       "\n",
       "    // Set the figure to an initial 600x600px, this will subsequently be updated\n",
       "    // upon first draw.\n",
       "    this._resize_canvas(600, 600);\n",
       "\n",
       "    // Disable right mouse context menu.\n",
       "    $(this.rubberband_canvas).bind(\"contextmenu\",function(e){\n",
       "        return false;\n",
       "    });\n",
       "\n",
       "    function set_focus () {\n",
       "        canvas.focus();\n",
       "        canvas_div.focus();\n",
       "    }\n",
       "\n",
       "    window.setTimeout(set_focus, 100);\n",
       "}\n",
       "\n",
       "mpl.figure.prototype._init_toolbar = function() {\n",
       "    var fig = this;\n",
       "\n",
       "    var nav_element = $('<div/>')\n",
       "    nav_element.attr('style', 'width: 100%');\n",
       "    this.root.append(nav_element);\n",
       "\n",
       "    // Define a callback function for later on.\n",
       "    function toolbar_event(event) {\n",
       "        return fig.toolbar_button_onclick(event['data']);\n",
       "    }\n",
       "    function toolbar_mouse_event(event) {\n",
       "        return fig.toolbar_button_onmouseover(event['data']);\n",
       "    }\n",
       "\n",
       "    for(var toolbar_ind in mpl.toolbar_items) {\n",
       "        var name = mpl.toolbar_items[toolbar_ind][0];\n",
       "        var tooltip = mpl.toolbar_items[toolbar_ind][1];\n",
       "        var image = mpl.toolbar_items[toolbar_ind][2];\n",
       "        var method_name = mpl.toolbar_items[toolbar_ind][3];\n",
       "\n",
       "        if (!name) {\n",
       "            // put a spacer in here.\n",
       "            continue;\n",
       "        }\n",
       "        var button = $('<button/>');\n",
       "        button.addClass('ui-button ui-widget ui-state-default ui-corner-all ' +\n",
       "                        'ui-button-icon-only');\n",
       "        button.attr('role', 'button');\n",
       "        button.attr('aria-disabled', 'false');\n",
       "        button.click(method_name, toolbar_event);\n",
       "        button.mouseover(tooltip, toolbar_mouse_event);\n",
       "\n",
       "        var icon_img = $('<span/>');\n",
       "        icon_img.addClass('ui-button-icon-primary ui-icon');\n",
       "        icon_img.addClass(image);\n",
       "        icon_img.addClass('ui-corner-all');\n",
       "\n",
       "        var tooltip_span = $('<span/>');\n",
       "        tooltip_span.addClass('ui-button-text');\n",
       "        tooltip_span.html(tooltip);\n",
       "\n",
       "        button.append(icon_img);\n",
       "        button.append(tooltip_span);\n",
       "\n",
       "        nav_element.append(button);\n",
       "    }\n",
       "\n",
       "    var fmt_picker_span = $('<span/>');\n",
       "\n",
       "    var fmt_picker = $('<select/>');\n",
       "    fmt_picker.addClass('mpl-toolbar-option ui-widget ui-widget-content');\n",
       "    fmt_picker_span.append(fmt_picker);\n",
       "    nav_element.append(fmt_picker_span);\n",
       "    this.format_dropdown = fmt_picker[0];\n",
       "\n",
       "    for (var ind in mpl.extensions) {\n",
       "        var fmt = mpl.extensions[ind];\n",
       "        var option = $(\n",
       "            '<option/>', {selected: fmt === mpl.default_extension}).html(fmt);\n",
       "        fmt_picker.append(option)\n",
       "    }\n",
       "\n",
       "    // Add hover states to the ui-buttons\n",
       "    $( \".ui-button\" ).hover(\n",
       "        function() { $(this).addClass(\"ui-state-hover\");},\n",
       "        function() { $(this).removeClass(\"ui-state-hover\");}\n",
       "    );\n",
       "\n",
       "    var status_bar = $('<span class=\"mpl-message\"/>');\n",
       "    nav_element.append(status_bar);\n",
       "    this.message = status_bar[0];\n",
       "}\n",
       "\n",
       "mpl.figure.prototype.request_resize = function(x_pixels, y_pixels) {\n",
       "    // Request matplotlib to resize the figure. Matplotlib will then trigger a resize in the client,\n",
       "    // which will in turn request a refresh of the image.\n",
       "    this.send_message('resize', {'width': x_pixels, 'height': y_pixels});\n",
       "}\n",
       "\n",
       "mpl.figure.prototype.send_message = function(type, properties) {\n",
       "    properties['type'] = type;\n",
       "    properties['figure_id'] = this.id;\n",
       "    this.ws.send(JSON.stringify(properties));\n",
       "}\n",
       "\n",
       "mpl.figure.prototype.send_draw_message = function() {\n",
       "    if (!this.waiting) {\n",
       "        this.waiting = true;\n",
       "        this.ws.send(JSON.stringify({type: \"draw\", figure_id: this.id}));\n",
       "    }\n",
       "}\n",
       "\n",
       "\n",
       "mpl.figure.prototype.handle_save = function(fig, msg) {\n",
       "    var format_dropdown = fig.format_dropdown;\n",
       "    var format = format_dropdown.options[format_dropdown.selectedIndex].value;\n",
       "    fig.ondownload(fig, format);\n",
       "}\n",
       "\n",
       "\n",
       "mpl.figure.prototype.handle_resize = function(fig, msg) {\n",
       "    var size = msg['size'];\n",
       "    if (size[0] != fig.canvas.width || size[1] != fig.canvas.height) {\n",
       "        fig._resize_canvas(size[0], size[1]);\n",
       "        fig.send_message(\"refresh\", {});\n",
       "    };\n",
       "}\n",
       "\n",
       "mpl.figure.prototype.handle_rubberband = function(fig, msg) {\n",
       "    var x0 = msg['x0'] / mpl.ratio;\n",
       "    var y0 = (fig.canvas.height - msg['y0']) / mpl.ratio;\n",
       "    var x1 = msg['x1'] / mpl.ratio;\n",
       "    var y1 = (fig.canvas.height - msg['y1']) / mpl.ratio;\n",
       "    x0 = Math.floor(x0) + 0.5;\n",
       "    y0 = Math.floor(y0) + 0.5;\n",
       "    x1 = Math.floor(x1) + 0.5;\n",
       "    y1 = Math.floor(y1) + 0.5;\n",
       "    var min_x = Math.min(x0, x1);\n",
       "    var min_y = Math.min(y0, y1);\n",
       "    var width = Math.abs(x1 - x0);\n",
       "    var height = Math.abs(y1 - y0);\n",
       "\n",
       "    fig.rubberband_context.clearRect(\n",
       "        0, 0, fig.canvas.width, fig.canvas.height);\n",
       "\n",
       "    fig.rubberband_context.strokeRect(min_x, min_y, width, height);\n",
       "}\n",
       "\n",
       "mpl.figure.prototype.handle_figure_label = function(fig, msg) {\n",
       "    // Updates the figure title.\n",
       "    fig.header.textContent = msg['label'];\n",
       "}\n",
       "\n",
       "mpl.figure.prototype.handle_cursor = function(fig, msg) {\n",
       "    var cursor = msg['cursor'];\n",
       "    switch(cursor)\n",
       "    {\n",
       "    case 0:\n",
       "        cursor = 'pointer';\n",
       "        break;\n",
       "    case 1:\n",
       "        cursor = 'default';\n",
       "        break;\n",
       "    case 2:\n",
       "        cursor = 'crosshair';\n",
       "        break;\n",
       "    case 3:\n",
       "        cursor = 'move';\n",
       "        break;\n",
       "    }\n",
       "    fig.rubberband_canvas.style.cursor = cursor;\n",
       "}\n",
       "\n",
       "mpl.figure.prototype.handle_message = function(fig, msg) {\n",
       "    fig.message.textContent = msg['message'];\n",
       "}\n",
       "\n",
       "mpl.figure.prototype.handle_draw = function(fig, msg) {\n",
       "    // Request the server to send over a new figure.\n",
       "    fig.send_draw_message();\n",
       "}\n",
       "\n",
       "mpl.figure.prototype.handle_image_mode = function(fig, msg) {\n",
       "    fig.image_mode = msg['mode'];\n",
       "}\n",
       "\n",
       "mpl.figure.prototype.updated_canvas_event = function() {\n",
       "    // Called whenever the canvas gets updated.\n",
       "    this.send_message(\"ack\", {});\n",
       "}\n",
       "\n",
       "// A function to construct a web socket function for onmessage handling.\n",
       "// Called in the figure constructor.\n",
       "mpl.figure.prototype._make_on_message_function = function(fig) {\n",
       "    return function socket_on_message(evt) {\n",
       "        if (evt.data instanceof Blob) {\n",
       "            /* FIXME: We get \"Resource interpreted as Image but\n",
       "             * transferred with MIME type text/plain:\" errors on\n",
       "             * Chrome.  But how to set the MIME type?  It doesn't seem\n",
       "             * to be part of the websocket stream */\n",
       "            evt.data.type = \"image/png\";\n",
       "\n",
       "            /* Free the memory for the previous frames */\n",
       "            if (fig.imageObj.src) {\n",
       "                (window.URL || window.webkitURL).revokeObjectURL(\n",
       "                    fig.imageObj.src);\n",
       "            }\n",
       "\n",
       "            fig.imageObj.src = (window.URL || window.webkitURL).createObjectURL(\n",
       "                evt.data);\n",
       "            fig.updated_canvas_event();\n",
       "            fig.waiting = false;\n",
       "            return;\n",
       "        }\n",
       "        else if (typeof evt.data === 'string' && evt.data.slice(0, 21) == \"data:image/png;base64\") {\n",
       "            fig.imageObj.src = evt.data;\n",
       "            fig.updated_canvas_event();\n",
       "            fig.waiting = false;\n",
       "            return;\n",
       "        }\n",
       "\n",
       "        var msg = JSON.parse(evt.data);\n",
       "        var msg_type = msg['type'];\n",
       "\n",
       "        // Call the  \"handle_{type}\" callback, which takes\n",
       "        // the figure and JSON message as its only arguments.\n",
       "        try {\n",
       "            var callback = fig[\"handle_\" + msg_type];\n",
       "        } catch (e) {\n",
       "            console.log(\"No handler for the '\" + msg_type + \"' message type: \", msg);\n",
       "            return;\n",
       "        }\n",
       "\n",
       "        if (callback) {\n",
       "            try {\n",
       "                // console.log(\"Handling '\" + msg_type + \"' message: \", msg);\n",
       "                callback(fig, msg);\n",
       "            } catch (e) {\n",
       "                console.log(\"Exception inside the 'handler_\" + msg_type + \"' callback:\", e, e.stack, msg);\n",
       "            }\n",
       "        }\n",
       "    };\n",
       "}\n",
       "\n",
       "// from http://stackoverflow.com/questions/1114465/getting-mouse-location-in-canvas\n",
       "mpl.findpos = function(e) {\n",
       "    //this section is from http://www.quirksmode.org/js/events_properties.html\n",
       "    var targ;\n",
       "    if (!e)\n",
       "        e = window.event;\n",
       "    if (e.target)\n",
       "        targ = e.target;\n",
       "    else if (e.srcElement)\n",
       "        targ = e.srcElement;\n",
       "    if (targ.nodeType == 3) // defeat Safari bug\n",
       "        targ = targ.parentNode;\n",
       "\n",
       "    // jQuery normalizes the pageX and pageY\n",
       "    // pageX,Y are the mouse positions relative to the document\n",
       "    // offset() returns the position of the element relative to the document\n",
       "    var x = e.pageX - $(targ).offset().left;\n",
       "    var y = e.pageY - $(targ).offset().top;\n",
       "\n",
       "    return {\"x\": x, \"y\": y};\n",
       "};\n",
       "\n",
       "/*\n",
       " * return a copy of an object with only non-object keys\n",
       " * we need this to avoid circular references\n",
       " * http://stackoverflow.com/a/24161582/3208463\n",
       " */\n",
       "function simpleKeys (original) {\n",
       "  return Object.keys(original).reduce(function (obj, key) {\n",
       "    if (typeof original[key] !== 'object')\n",
       "        obj[key] = original[key]\n",
       "    return obj;\n",
       "  }, {});\n",
       "}\n",
       "\n",
       "mpl.figure.prototype.mouse_event = function(event, name) {\n",
       "    var canvas_pos = mpl.findpos(event)\n",
       "\n",
       "    if (name === 'button_press')\n",
       "    {\n",
       "        this.canvas.focus();\n",
       "        this.canvas_div.focus();\n",
       "    }\n",
       "\n",
       "    var x = canvas_pos.x * mpl.ratio;\n",
       "    var y = canvas_pos.y * mpl.ratio;\n",
       "\n",
       "    this.send_message(name, {x: x, y: y, button: event.button,\n",
       "                             step: event.step,\n",
       "                             guiEvent: simpleKeys(event)});\n",
       "\n",
       "    /* This prevents the web browser from automatically changing to\n",
       "     * the text insertion cursor when the button is pressed.  We want\n",
       "     * to control all of the cursor setting manually through the\n",
       "     * 'cursor' event from matplotlib */\n",
       "    event.preventDefault();\n",
       "    return false;\n",
       "}\n",
       "\n",
       "mpl.figure.prototype._key_event_extra = function(event, name) {\n",
       "    // Handle any extra behaviour associated with a key event\n",
       "}\n",
       "\n",
       "mpl.figure.prototype.key_event = function(event, name) {\n",
       "\n",
       "    // Prevent repeat events\n",
       "    if (name == 'key_press')\n",
       "    {\n",
       "        if (event.which === this._key)\n",
       "            return;\n",
       "        else\n",
       "            this._key = event.which;\n",
       "    }\n",
       "    if (name == 'key_release')\n",
       "        this._key = null;\n",
       "\n",
       "    var value = '';\n",
       "    if (event.ctrlKey && event.which != 17)\n",
       "        value += \"ctrl+\";\n",
       "    if (event.altKey && event.which != 18)\n",
       "        value += \"alt+\";\n",
       "    if (event.shiftKey && event.which != 16)\n",
       "        value += \"shift+\";\n",
       "\n",
       "    value += 'k';\n",
       "    value += event.which.toString();\n",
       "\n",
       "    this._key_event_extra(event, name);\n",
       "\n",
       "    this.send_message(name, {key: value,\n",
       "                             guiEvent: simpleKeys(event)});\n",
       "    return false;\n",
       "}\n",
       "\n",
       "mpl.figure.prototype.toolbar_button_onclick = function(name) {\n",
       "    if (name == 'download') {\n",
       "        this.handle_save(this, null);\n",
       "    } else {\n",
       "        this.send_message(\"toolbar_button\", {name: name});\n",
       "    }\n",
       "};\n",
       "\n",
       "mpl.figure.prototype.toolbar_button_onmouseover = function(tooltip) {\n",
       "    this.message.textContent = tooltip;\n",
       "};\n",
       "mpl.toolbar_items = [[\"Home\", \"Reset original view\", \"fa fa-home icon-home\", \"home\"], [\"Back\", \"Back to previous view\", \"fa fa-arrow-left icon-arrow-left\", \"back\"], [\"Forward\", \"Forward to next view\", \"fa fa-arrow-right icon-arrow-right\", \"forward\"], [\"\", \"\", \"\", \"\"], [\"Pan\", \"Pan axes with left mouse, zoom with right\", \"fa fa-arrows icon-move\", \"pan\"], [\"Zoom\", \"Zoom to rectangle\", \"fa fa-square-o icon-check-empty\", \"zoom\"], [\"\", \"\", \"\", \"\"], [\"Download\", \"Download plot\", \"fa fa-floppy-o icon-save\", \"download\"]];\n",
       "\n",
       "mpl.extensions = [\"eps\", \"jpeg\", \"pdf\", \"png\", \"ps\", \"raw\", \"svg\", \"tif\"];\n",
       "\n",
       "mpl.default_extension = \"png\";var comm_websocket_adapter = function(comm) {\n",
       "    // Create a \"websocket\"-like object which calls the given IPython comm\n",
       "    // object with the appropriate methods. Currently this is a non binary\n",
       "    // socket, so there is still some room for performance tuning.\n",
       "    var ws = {};\n",
       "\n",
       "    ws.close = function() {\n",
       "        comm.close()\n",
       "    };\n",
       "    ws.send = function(m) {\n",
       "        //console.log('sending', m);\n",
       "        comm.send(m);\n",
       "    };\n",
       "    // Register the callback with on_msg.\n",
       "    comm.on_msg(function(msg) {\n",
       "        //console.log('receiving', msg['content']['data'], msg);\n",
       "        // Pass the mpl event to the overridden (by mpl) onmessage function.\n",
       "        ws.onmessage(msg['content']['data'])\n",
       "    });\n",
       "    return ws;\n",
       "}\n",
       "\n",
       "mpl.mpl_figure_comm = function(comm, msg) {\n",
       "    // This is the function which gets called when the mpl process\n",
       "    // starts-up an IPython Comm through the \"matplotlib\" channel.\n",
       "\n",
       "    var id = msg.content.data.id;\n",
       "    // Get hold of the div created by the display call when the Comm\n",
       "    // socket was opened in Python.\n",
       "    var element = $(\"#\" + id);\n",
       "    var ws_proxy = comm_websocket_adapter(comm)\n",
       "\n",
       "    function ondownload(figure, format) {\n",
       "        window.open(figure.imageObj.src);\n",
       "    }\n",
       "\n",
       "    var fig = new mpl.figure(id, ws_proxy,\n",
       "                           ondownload,\n",
       "                           element.get(0));\n",
       "\n",
       "    // Call onopen now - mpl needs it, as it is assuming we've passed it a real\n",
       "    // web socket which is closed, not our websocket->open comm proxy.\n",
       "    ws_proxy.onopen();\n",
       "\n",
       "    fig.parent_element = element.get(0);\n",
       "    fig.cell_info = mpl.find_output_cell(\"<div id='\" + id + \"'></div>\");\n",
       "    if (!fig.cell_info) {\n",
       "        console.error(\"Failed to find cell for figure\", id, fig);\n",
       "        return;\n",
       "    }\n",
       "\n",
       "    var output_index = fig.cell_info[2]\n",
       "    var cell = fig.cell_info[0];\n",
       "\n",
       "};\n",
       "\n",
       "mpl.figure.prototype.handle_close = function(fig, msg) {\n",
       "    var width = fig.canvas.width/mpl.ratio\n",
       "    fig.root.unbind('remove')\n",
       "\n",
       "    // Update the output cell to use the data from the current canvas.\n",
       "    fig.push_to_output();\n",
       "    var dataURL = fig.canvas.toDataURL();\n",
       "    // Re-enable the keyboard manager in IPython - without this line, in FF,\n",
       "    // the notebook keyboard shortcuts fail.\n",
       "    IPython.keyboard_manager.enable()\n",
       "    $(fig.parent_element).html('<img src=\"' + dataURL + '\" width=\"' + width + '\">');\n",
       "    fig.close_ws(fig, msg);\n",
       "}\n",
       "\n",
       "mpl.figure.prototype.close_ws = function(fig, msg){\n",
       "    fig.send_message('closing', msg);\n",
       "    // fig.ws.close()\n",
       "}\n",
       "\n",
       "mpl.figure.prototype.push_to_output = function(remove_interactive) {\n",
       "    // Turn the data on the canvas into data in the output cell.\n",
       "    var width = this.canvas.width/mpl.ratio\n",
       "    var dataURL = this.canvas.toDataURL();\n",
       "    this.cell_info[1]['text/html'] = '<img src=\"' + dataURL + '\" width=\"' + width + '\">';\n",
       "}\n",
       "\n",
       "mpl.figure.prototype.updated_canvas_event = function() {\n",
       "    // Tell IPython that the notebook contents must change.\n",
       "    IPython.notebook.set_dirty(true);\n",
       "    this.send_message(\"ack\", {});\n",
       "    var fig = this;\n",
       "    // Wait a second, then push the new image to the DOM so\n",
       "    // that it is saved nicely (might be nice to debounce this).\n",
       "    setTimeout(function () { fig.push_to_output() }, 1000);\n",
       "}\n",
       "\n",
       "mpl.figure.prototype._init_toolbar = function() {\n",
       "    var fig = this;\n",
       "\n",
       "    var nav_element = $('<div/>')\n",
       "    nav_element.attr('style', 'width: 100%');\n",
       "    this.root.append(nav_element);\n",
       "\n",
       "    // Define a callback function for later on.\n",
       "    function toolbar_event(event) {\n",
       "        return fig.toolbar_button_onclick(event['data']);\n",
       "    }\n",
       "    function toolbar_mouse_event(event) {\n",
       "        return fig.toolbar_button_onmouseover(event['data']);\n",
       "    }\n",
       "\n",
       "    for(var toolbar_ind in mpl.toolbar_items){\n",
       "        var name = mpl.toolbar_items[toolbar_ind][0];\n",
       "        var tooltip = mpl.toolbar_items[toolbar_ind][1];\n",
       "        var image = mpl.toolbar_items[toolbar_ind][2];\n",
       "        var method_name = mpl.toolbar_items[toolbar_ind][3];\n",
       "\n",
       "        if (!name) { continue; };\n",
       "\n",
       "        var button = $('<button class=\"btn btn-default\" href=\"#\" title=\"' + name + '\"><i class=\"fa ' + image + ' fa-lg\"></i></button>');\n",
       "        button.click(method_name, toolbar_event);\n",
       "        button.mouseover(tooltip, toolbar_mouse_event);\n",
       "        nav_element.append(button);\n",
       "    }\n",
       "\n",
       "    // Add the status bar.\n",
       "    var status_bar = $('<span class=\"mpl-message\" style=\"text-align:right; float: right;\"/>');\n",
       "    nav_element.append(status_bar);\n",
       "    this.message = status_bar[0];\n",
       "\n",
       "    // Add the close button to the window.\n",
       "    var buttongrp = $('<div class=\"btn-group inline pull-right\"></div>');\n",
       "    var button = $('<button class=\"btn btn-mini btn-primary\" href=\"#\" title=\"Stop Interaction\"><i class=\"fa fa-power-off icon-remove icon-large\"></i></button>');\n",
       "    button.click(function (evt) { fig.handle_close(fig, {}); } );\n",
       "    button.mouseover('Stop Interaction', toolbar_mouse_event);\n",
       "    buttongrp.append(button);\n",
       "    var titlebar = this.root.find($('.ui-dialog-titlebar'));\n",
       "    titlebar.prepend(buttongrp);\n",
       "}\n",
       "\n",
       "mpl.figure.prototype._root_extra_style = function(el){\n",
       "    var fig = this\n",
       "    el.on(\"remove\", function(){\n",
       "\tfig.close_ws(fig, {});\n",
       "    });\n",
       "}\n",
       "\n",
       "mpl.figure.prototype._canvas_extra_style = function(el){\n",
       "    // this is important to make the div 'focusable\n",
       "    el.attr('tabindex', 0)\n",
       "    // reach out to IPython and tell the keyboard manager to turn it's self\n",
       "    // off when our div gets focus\n",
       "\n",
       "    // location in version 3\n",
       "    if (IPython.notebook.keyboard_manager) {\n",
       "        IPython.notebook.keyboard_manager.register_events(el);\n",
       "    }\n",
       "    else {\n",
       "        // location in version 2\n",
       "        IPython.keyboard_manager.register_events(el);\n",
       "    }\n",
       "\n",
       "}\n",
       "\n",
       "mpl.figure.prototype._key_event_extra = function(event, name) {\n",
       "    var manager = IPython.notebook.keyboard_manager;\n",
       "    if (!manager)\n",
       "        manager = IPython.keyboard_manager;\n",
       "\n",
       "    // Check for shift+enter\n",
       "    if (event.shiftKey && event.which == 13) {\n",
       "        this.canvas_div.blur();\n",
       "        event.shiftKey = false;\n",
       "        // Send a \"J\" for go to next cell\n",
       "        event.which = 74;\n",
       "        event.keyCode = 74;\n",
       "        manager.command_mode();\n",
       "        manager.handle_keydown(event);\n",
       "    }\n",
       "}\n",
       "\n",
       "mpl.figure.prototype.handle_save = function(fig, msg) {\n",
       "    fig.ondownload(fig, null);\n",
       "}\n",
       "\n",
       "\n",
       "mpl.find_output_cell = function(html_output) {\n",
       "    // Return the cell and output element which can be found *uniquely* in the notebook.\n",
       "    // Note - this is a bit hacky, but it is done because the \"notebook_saving.Notebook\"\n",
       "    // IPython event is triggered only after the cells have been serialised, which for\n",
       "    // our purposes (turning an active figure into a static one), is too late.\n",
       "    var cells = IPython.notebook.get_cells();\n",
       "    var ncells = cells.length;\n",
       "    for (var i=0; i<ncells; i++) {\n",
       "        var cell = cells[i];\n",
       "        if (cell.cell_type === 'code'){\n",
       "            for (var j=0; j<cell.output_area.outputs.length; j++) {\n",
       "                var data = cell.output_area.outputs[j];\n",
       "                if (data.data) {\n",
       "                    // IPython >= 3 moved mimebundle to data attribute of output\n",
       "                    data = data.data;\n",
       "                }\n",
       "                if (data['text/html'] == html_output) {\n",
       "                    return [cell, data, j];\n",
       "                }\n",
       "            }\n",
       "        }\n",
       "    }\n",
       "}\n",
       "\n",
       "// Register the function which deals with the matplotlib target/channel.\n",
       "// The kernel may be null if the page has been refreshed.\n",
       "if (IPython.notebook.kernel != null) {\n",
       "    IPython.notebook.kernel.comm_manager.register_target('matplotlib', mpl.mpl_figure_comm);\n",
       "}\n"
      ],
      "text/plain": [
       "<IPython.core.display.Javascript object>"
      ]
     },
     "metadata": {},
     "output_type": "display_data"
    },
    {
     "data": {
      "text/html": [
       "<img src=\"data:image/png;base64,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\" width=\"640\">"
      ],
      "text/plain": [
       "<IPython.core.display.HTML object>"
      ]
     },
     "metadata": {},
     "output_type": "display_data"
    },
    {
     "data": {
      "text/plain": [
       "[<matplotlib.lines.Line2D at 0x7f97339b0978>]"
      ]
     },
     "execution_count": 18,
     "metadata": {},
     "output_type": "execute_result"
    }
   ],
   "source": [
    "import matplotlib.pyplot as plt\n",
    "\n",
    "q = 1.1\n",
    "n = 100\n",
    "partial_sums = geometric_partial_sums(q, n)\n",
    "plt.plot(partial_sums)\n",
    "plt.plot([1/(1-q)]*len(partial_sums)) # valore limite"
   ]
  },
  {
   "cell_type": "markdown",
   "metadata": {},
   "source": [
    "## Mondo griglia\n",
    "\n",
    "Nelle lezioni di **teoria** avete visto il **Mondo Griglia**."
   ]
  },
  {
   "cell_type": "markdown",
   "metadata": {},
   "source": [
    "<img src=\"img/gridworld.png\" alt=\"Mondo griglia\" style=\"width: 600px;\"/>\n",
    "\n",
    "<center>Immagine tratta dal libro di <a href=\"http://incompleteideas.net/book/RLbook2018.pdf\">Reinforcement Learning: An Introduction</a> di <strong>R. Sutton</strong>.</center>"
   ]
  },
  {
   "cell_type": "markdown",
   "metadata": {},
   "source": [
    "In questa sezione impareremo a:\n",
    "\n",
    "* trovare il **valore** di ogni **stato** data una policy\n",
    "* utilizzare i valori ottenuti per **migliorare** la policy\n",
    "* trovare una policy **ottimale**"
   ]
  },
  {
   "cell_type": "markdown",
   "metadata": {},
   "source": [
    "### Valutazione di una policy"
   ]
  },
  {
   "cell_type": "code",
   "execution_count": 19,
   "metadata": {},
   "outputs": [],
   "source": [
    "# restituisce la policy uniforme, cioè quella che in ogni stato\n",
    "# assegna la stessa probabilità alle 4 direzioni\n",
    "def get_uniform_random_policy():\n",
    "    policy = dict()\n",
    "    for i in range(5):\n",
    "        for j in range(5):\n",
    "            policy[(i, j)] = {\"L\" : 1/4, \"R\" : 1/4, \"U\" : 1/4, \"D\" : 1/4}\n",
    "    return policy"
   ]
  },
  {
   "cell_type": "code",
   "execution_count": 20,
   "metadata": {},
   "outputs": [
    {
     "data": {
      "text/plain": [
       "{(0, 0): {'L': 0.25, 'R': 0.25, 'U': 0.25, 'D': 0.25},\n",
       " (0, 1): {'L': 0.25, 'R': 0.25, 'U': 0.25, 'D': 0.25},\n",
       " (0, 2): {'L': 0.25, 'R': 0.25, 'U': 0.25, 'D': 0.25},\n",
       " (0, 3): {'L': 0.25, 'R': 0.25, 'U': 0.25, 'D': 0.25},\n",
       " (0, 4): {'L': 0.25, 'R': 0.25, 'U': 0.25, 'D': 0.25},\n",
       " (1, 0): {'L': 0.25, 'R': 0.25, 'U': 0.25, 'D': 0.25},\n",
       " (1, 1): {'L': 0.25, 'R': 0.25, 'U': 0.25, 'D': 0.25},\n",
       " (1, 2): {'L': 0.25, 'R': 0.25, 'U': 0.25, 'D': 0.25},\n",
       " (1, 3): {'L': 0.25, 'R': 0.25, 'U': 0.25, 'D': 0.25},\n",
       " (1, 4): {'L': 0.25, 'R': 0.25, 'U': 0.25, 'D': 0.25},\n",
       " (2, 0): {'L': 0.25, 'R': 0.25, 'U': 0.25, 'D': 0.25},\n",
       " (2, 1): {'L': 0.25, 'R': 0.25, 'U': 0.25, 'D': 0.25},\n",
       " (2, 2): {'L': 0.25, 'R': 0.25, 'U': 0.25, 'D': 0.25},\n",
       " (2, 3): {'L': 0.25, 'R': 0.25, 'U': 0.25, 'D': 0.25},\n",
       " (2, 4): {'L': 0.25, 'R': 0.25, 'U': 0.25, 'D': 0.25},\n",
       " (3, 0): {'L': 0.25, 'R': 0.25, 'U': 0.25, 'D': 0.25},\n",
       " (3, 1): {'L': 0.25, 'R': 0.25, 'U': 0.25, 'D': 0.25},\n",
       " (3, 2): {'L': 0.25, 'R': 0.25, 'U': 0.25, 'D': 0.25},\n",
       " (3, 3): {'L': 0.25, 'R': 0.25, 'U': 0.25, 'D': 0.25},\n",
       " (3, 4): {'L': 0.25, 'R': 0.25, 'U': 0.25, 'D': 0.25},\n",
       " (4, 0): {'L': 0.25, 'R': 0.25, 'U': 0.25, 'D': 0.25},\n",
       " (4, 1): {'L': 0.25, 'R': 0.25, 'U': 0.25, 'D': 0.25},\n",
       " (4, 2): {'L': 0.25, 'R': 0.25, 'U': 0.25, 'D': 0.25},\n",
       " (4, 3): {'L': 0.25, 'R': 0.25, 'U': 0.25, 'D': 0.25},\n",
       " (4, 4): {'L': 0.25, 'R': 0.25, 'U': 0.25, 'D': 0.25}}"
      ]
     },
     "execution_count": 20,
     "metadata": {},
     "output_type": "execute_result"
    }
   ],
   "source": [
    "uniform_random_policy = get_uniform_random_policy(); uniform_random_policy"
   ]
  },
  {
   "cell_type": "code",
   "execution_count": 21,
   "metadata": {},
   "outputs": [],
   "source": [
    "# spostamento (di, dj) associato ad ogni azione\n",
    "#\n",
    "# ad esempio quando ci si sposta a sinistra (L)\n",
    "# la coordinata verticale non cambia, mentre quella\n",
    "# orizzontake diminuisce di 1\n",
    "direction = {\"L\" : (0, -1), \"R\" : (0, 1), \"U\" : (-1, 0), \"D\" : (1, 0)}"
   ]
  },
  {
   "cell_type": "code",
   "execution_count": 22,
   "metadata": {},
   "outputs": [
    {
     "data": {
      "text/plain": [
       "(0, -1)"
      ]
     },
     "execution_count": 22,
     "metadata": {},
     "output_type": "execute_result"
    }
   ],
   "source": [
    "direction[\"L\"]"
   ]
  },
  {
   "cell_type": "code",
   "execution_count": 23,
   "metadata": {},
   "outputs": [],
   "source": [
    "import numpy as np\n",
    "def create_system_coefficients(policy, discount_factor=1):\n",
    "    '''Crea il sistema risolvendo il quale si trovano i valori dei 25 stati\n",
    "    \n",
    "    Args\n",
    "    ----\n",
    "    policy - una dizionario che rappresenta una policy (vedi la rappresentazione della policy uniforme)\n",
    "    discount_factor - il fattore di sconto\n",
    "    \n",
    "    Return\n",
    "    ------\n",
    "    A - la matrice dei coefficienti del sistema (matrice numpy 25 x 25)\n",
    "    b - il vettore dei termini noti (vettore unidimensionale numpy di 25 elementi)\n",
    "    '''\n",
    "    A = np.eye(25)\n",
    "    b = np.zeros(25)\n",
    "    for i in range(5):\n",
    "        for j in range(5):\n",
    "            n = i*5 + j\n",
    "            if n == 1 or n == 3:\n",
    "                continue\n",
    "            for action in \"LRUD\":\n",
    "                di, dj = direction[action]\n",
    "                action_prob = policy[(i, j)][action]\n",
    "                if 0<=i+di<=4 and 0<=j+dj<=4:\n",
    "                    A[n, (i+di)*5 + (j+dj)] -= discount_factor*action_prob\n",
    "                else:\n",
    "                    b[n] -= action_prob\n",
    "                    A[n, n] -= discount_factor*action_prob\n",
    "                    \n",
    "    A[1, 21] = -discount_factor\n",
    "    b[1] = 10\n",
    "    \n",
    "    A[3, 13] = -discount_factor\n",
    "    b[3] = 5\n",
    "    \n",
    "    return A, b"
   ]
  },
  {
   "cell_type": "code",
   "execution_count": 24,
   "metadata": {},
   "outputs": [],
   "source": [
    "A, b = create_system_coefficients(uniform_random_policy)"
   ]
  },
  {
   "cell_type": "code",
   "execution_count": 25,
   "metadata": {},
   "outputs": [
    {
     "data": {
      "text/plain": [
       "array([[ 0.5 , -0.25,  0.  ,  0.  ,  0.  , -0.25,  0.  ,  0.  ,  0.  ,\n",
       "         0.  ,  0.  ,  0.  ,  0.  ,  0.  ,  0.  ,  0.  ,  0.  ,  0.  ,\n",
       "         0.  ,  0.  ,  0.  ,  0.  ,  0.  ,  0.  ,  0.  ],\n",
       "       [ 0.  ,  1.  ,  0.  ,  0.  ,  0.  ,  0.  ,  0.  ,  0.  ,  0.  ,\n",
       "         0.  ,  0.  ,  0.  ,  0.  ,  0.  ,  0.  ,  0.  ,  0.  ,  0.  ,\n",
       "         0.  ,  0.  ,  0.  , -1.  ,  0.  ,  0.  ,  0.  ],\n",
       "       [ 0.  , -0.25,  0.75, -0.25,  0.  ,  0.  ,  0.  , -0.25,  0.  ,\n",
       "         0.  ,  0.  ,  0.  ,  0.  ,  0.  ,  0.  ,  0.  ,  0.  ,  0.  ,\n",
       "         0.  ,  0.  ,  0.  ,  0.  ,  0.  ,  0.  ,  0.  ],\n",
       "       [ 0.  ,  0.  ,  0.  ,  1.  ,  0.  ,  0.  ,  0.  ,  0.  ,  0.  ,\n",
       "         0.  ,  0.  ,  0.  ,  0.  , -1.  ,  0.  ,  0.  ,  0.  ,  0.  ,\n",
       "         0.  ,  0.  ,  0.  ,  0.  ,  0.  ,  0.  ,  0.  ],\n",
       "       [ 0.  ,  0.  ,  0.  , -0.25,  0.5 ,  0.  ,  0.  ,  0.  ,  0.  ,\n",
       "        -0.25,  0.  ,  0.  ,  0.  ,  0.  ,  0.  ,  0.  ,  0.  ,  0.  ,\n",
       "         0.  ,  0.  ,  0.  ,  0.  ,  0.  ,  0.  ,  0.  ],\n",
       "       [-0.25,  0.  ,  0.  ,  0.  ,  0.  ,  0.75, -0.25,  0.  ,  0.  ,\n",
       "         0.  , -0.25,  0.  ,  0.  ,  0.  ,  0.  ,  0.  ,  0.  ,  0.  ,\n",
       "         0.  ,  0.  ,  0.  ,  0.  ,  0.  ,  0.  ,  0.  ],\n",
       "       [ 0.  , -0.25,  0.  ,  0.  ,  0.  , -0.25,  1.  , -0.25,  0.  ,\n",
       "         0.  ,  0.  , -0.25,  0.  ,  0.  ,  0.  ,  0.  ,  0.  ,  0.  ,\n",
       "         0.  ,  0.  ,  0.  ,  0.  ,  0.  ,  0.  ,  0.  ],\n",
       "       [ 0.  ,  0.  , -0.25,  0.  ,  0.  ,  0.  , -0.25,  1.  , -0.25,\n",
       "         0.  ,  0.  ,  0.  , -0.25,  0.  ,  0.  ,  0.  ,  0.  ,  0.  ,\n",
       "         0.  ,  0.  ,  0.  ,  0.  ,  0.  ,  0.  ,  0.  ],\n",
       "       [ 0.  ,  0.  ,  0.  , -0.25,  0.  ,  0.  ,  0.  , -0.25,  1.  ,\n",
       "        -0.25,  0.  ,  0.  ,  0.  , -0.25,  0.  ,  0.  ,  0.  ,  0.  ,\n",
       "         0.  ,  0.  ,  0.  ,  0.  ,  0.  ,  0.  ,  0.  ],\n",
       "       [ 0.  ,  0.  ,  0.  ,  0.  , -0.25,  0.  ,  0.  ,  0.  , -0.25,\n",
       "         0.75,  0.  ,  0.  ,  0.  ,  0.  , -0.25,  0.  ,  0.  ,  0.  ,\n",
       "         0.  ,  0.  ,  0.  ,  0.  ,  0.  ,  0.  ,  0.  ],\n",
       "       [ 0.  ,  0.  ,  0.  ,  0.  ,  0.  , -0.25,  0.  ,  0.  ,  0.  ,\n",
       "         0.  ,  0.75, -0.25,  0.  ,  0.  ,  0.  , -0.25,  0.  ,  0.  ,\n",
       "         0.  ,  0.  ,  0.  ,  0.  ,  0.  ,  0.  ,  0.  ],\n",
       "       [ 0.  ,  0.  ,  0.  ,  0.  ,  0.  ,  0.  , -0.25,  0.  ,  0.  ,\n",
       "         0.  , -0.25,  1.  , -0.25,  0.  ,  0.  ,  0.  , -0.25,  0.  ,\n",
       "         0.  ,  0.  ,  0.  ,  0.  ,  0.  ,  0.  ,  0.  ],\n",
       "       [ 0.  ,  0.  ,  0.  ,  0.  ,  0.  ,  0.  ,  0.  , -0.25,  0.  ,\n",
       "         0.  ,  0.  , -0.25,  1.  , -0.25,  0.  ,  0.  ,  0.  , -0.25,\n",
       "         0.  ,  0.  ,  0.  ,  0.  ,  0.  ,  0.  ,  0.  ],\n",
       "       [ 0.  ,  0.  ,  0.  ,  0.  ,  0.  ,  0.  ,  0.  ,  0.  , -0.25,\n",
       "         0.  ,  0.  ,  0.  , -0.25,  1.  , -0.25,  0.  ,  0.  ,  0.  ,\n",
       "        -0.25,  0.  ,  0.  ,  0.  ,  0.  ,  0.  ,  0.  ],\n",
       "       [ 0.  ,  0.  ,  0.  ,  0.  ,  0.  ,  0.  ,  0.  ,  0.  ,  0.  ,\n",
       "        -0.25,  0.  ,  0.  ,  0.  , -0.25,  0.75,  0.  ,  0.  ,  0.  ,\n",
       "         0.  , -0.25,  0.  ,  0.  ,  0.  ,  0.  ,  0.  ],\n",
       "       [ 0.  ,  0.  ,  0.  ,  0.  ,  0.  ,  0.  ,  0.  ,  0.  ,  0.  ,\n",
       "         0.  , -0.25,  0.  ,  0.  ,  0.  ,  0.  ,  0.75, -0.25,  0.  ,\n",
       "         0.  ,  0.  , -0.25,  0.  ,  0.  ,  0.  ,  0.  ],\n",
       "       [ 0.  ,  0.  ,  0.  ,  0.  ,  0.  ,  0.  ,  0.  ,  0.  ,  0.  ,\n",
       "         0.  ,  0.  , -0.25,  0.  ,  0.  ,  0.  , -0.25,  1.  , -0.25,\n",
       "         0.  ,  0.  ,  0.  , -0.25,  0.  ,  0.  ,  0.  ],\n",
       "       [ 0.  ,  0.  ,  0.  ,  0.  ,  0.  ,  0.  ,  0.  ,  0.  ,  0.  ,\n",
       "         0.  ,  0.  ,  0.  , -0.25,  0.  ,  0.  ,  0.  , -0.25,  1.  ,\n",
       "        -0.25,  0.  ,  0.  ,  0.  , -0.25,  0.  ,  0.  ],\n",
       "       [ 0.  ,  0.  ,  0.  ,  0.  ,  0.  ,  0.  ,  0.  ,  0.  ,  0.  ,\n",
       "         0.  ,  0.  ,  0.  ,  0.  , -0.25,  0.  ,  0.  ,  0.  , -0.25,\n",
       "         1.  , -0.25,  0.  ,  0.  ,  0.  , -0.25,  0.  ],\n",
       "       [ 0.  ,  0.  ,  0.  ,  0.  ,  0.  ,  0.  ,  0.  ,  0.  ,  0.  ,\n",
       "         0.  ,  0.  ,  0.  ,  0.  ,  0.  , -0.25,  0.  ,  0.  ,  0.  ,\n",
       "        -0.25,  0.75,  0.  ,  0.  ,  0.  ,  0.  , -0.25],\n",
       "       [ 0.  ,  0.  ,  0.  ,  0.  ,  0.  ,  0.  ,  0.  ,  0.  ,  0.  ,\n",
       "         0.  ,  0.  ,  0.  ,  0.  ,  0.  ,  0.  , -0.25,  0.  ,  0.  ,\n",
       "         0.  ,  0.  ,  0.5 , -0.25,  0.  ,  0.  ,  0.  ],\n",
       "       [ 0.  ,  0.  ,  0.  ,  0.  ,  0.  ,  0.  ,  0.  ,  0.  ,  0.  ,\n",
       "         0.  ,  0.  ,  0.  ,  0.  ,  0.  ,  0.  ,  0.  , -0.25,  0.  ,\n",
       "         0.  ,  0.  , -0.25,  0.75, -0.25,  0.  ,  0.  ],\n",
       "       [ 0.  ,  0.  ,  0.  ,  0.  ,  0.  ,  0.  ,  0.  ,  0.  ,  0.  ,\n",
       "         0.  ,  0.  ,  0.  ,  0.  ,  0.  ,  0.  ,  0.  ,  0.  , -0.25,\n",
       "         0.  ,  0.  ,  0.  , -0.25,  0.75, -0.25,  0.  ],\n",
       "       [ 0.  ,  0.  ,  0.  ,  0.  ,  0.  ,  0.  ,  0.  ,  0.  ,  0.  ,\n",
       "         0.  ,  0.  ,  0.  ,  0.  ,  0.  ,  0.  ,  0.  ,  0.  ,  0.  ,\n",
       "        -0.25,  0.  ,  0.  ,  0.  , -0.25,  0.75, -0.25],\n",
       "       [ 0.  ,  0.  ,  0.  ,  0.  ,  0.  ,  0.  ,  0.  ,  0.  ,  0.  ,\n",
       "         0.  ,  0.  ,  0.  ,  0.  ,  0.  ,  0.  ,  0.  ,  0.  ,  0.  ,\n",
       "         0.  , -0.25,  0.  ,  0.  ,  0.  , -0.25,  0.5 ]])"
      ]
     },
     "execution_count": 25,
     "metadata": {},
     "output_type": "execute_result"
    }
   ],
   "source": [
    "A"
   ]
  },
  {
   "cell_type": "code",
   "execution_count": 26,
   "metadata": {},
   "outputs": [
    {
     "data": {
      "text/plain": [
       "array([-0.5 , 10.  , -0.25,  5.  , -0.5 , -0.25,  0.  ,  0.  ,  0.  ,\n",
       "       -0.25, -0.25,  0.  ,  0.  ,  0.  , -0.25, -0.25,  0.  ,  0.  ,\n",
       "        0.  , -0.25, -0.5 , -0.25, -0.25, -0.25, -0.5 ])"
      ]
     },
     "execution_count": 26,
     "metadata": {},
     "output_type": "execute_result"
    }
   ],
   "source": [
    "b"
   ]
  },
  {
   "cell_type": "code",
   "execution_count": 27,
   "metadata": {},
   "outputs": [
    {
     "data": {
      "text/plain": [
       "24"
      ]
     },
     "execution_count": 27,
     "metadata": {},
     "output_type": "execute_result"
    }
   ],
   "source": [
    "np.linalg.matrix_rank(A)"
   ]
  },
  {
   "cell_type": "code",
   "execution_count": 28,
   "metadata": {},
   "outputs": [
    {
     "data": {
      "text/plain": [
       "25"
      ]
     },
     "execution_count": 28,
     "metadata": {},
     "output_type": "execute_result"
    }
   ],
   "source": [
    "np.linalg.matrix_rank(np.concatenate((A, np.reshape(b, (25, 1))), axis=1))"
   ]
  },
  {
   "cell_type": "code",
   "execution_count": 29,
   "metadata": {},
   "outputs": [],
   "source": [
    "A, b = create_system_coefficients(uniform_random_policy, 0.9)"
   ]
  },
  {
   "cell_type": "code",
   "execution_count": 30,
   "metadata": {},
   "outputs": [
    {
     "data": {
      "text/plain": [
       "array([[ 0.55 , -0.225,  0.   ,  0.   ,  0.   , -0.225,  0.   ,  0.   ,\n",
       "         0.   ,  0.   ,  0.   ,  0.   ,  0.   ,  0.   ,  0.   ,  0.   ,\n",
       "         0.   ,  0.   ,  0.   ,  0.   ,  0.   ,  0.   ,  0.   ,  0.   ,\n",
       "         0.   ],\n",
       "       [ 0.   ,  1.   ,  0.   ,  0.   ,  0.   ,  0.   ,  0.   ,  0.   ,\n",
       "         0.   ,  0.   ,  0.   ,  0.   ,  0.   ,  0.   ,  0.   ,  0.   ,\n",
       "         0.   ,  0.   ,  0.   ,  0.   ,  0.   , -0.9  ,  0.   ,  0.   ,\n",
       "         0.   ],\n",
       "       [ 0.   , -0.225,  0.775, -0.225,  0.   ,  0.   ,  0.   , -0.225,\n",
       "         0.   ,  0.   ,  0.   ,  0.   ,  0.   ,  0.   ,  0.   ,  0.   ,\n",
       "         0.   ,  0.   ,  0.   ,  0.   ,  0.   ,  0.   ,  0.   ,  0.   ,\n",
       "         0.   ],\n",
       "       [ 0.   ,  0.   ,  0.   ,  1.   ,  0.   ,  0.   ,  0.   ,  0.   ,\n",
       "         0.   ,  0.   ,  0.   ,  0.   ,  0.   , -0.9  ,  0.   ,  0.   ,\n",
       "         0.   ,  0.   ,  0.   ,  0.   ,  0.   ,  0.   ,  0.   ,  0.   ,\n",
       "         0.   ],\n",
       "       [ 0.   ,  0.   ,  0.   , -0.225,  0.55 ,  0.   ,  0.   ,  0.   ,\n",
       "         0.   , -0.225,  0.   ,  0.   ,  0.   ,  0.   ,  0.   ,  0.   ,\n",
       "         0.   ,  0.   ,  0.   ,  0.   ,  0.   ,  0.   ,  0.   ,  0.   ,\n",
       "         0.   ],\n",
       "       [-0.225,  0.   ,  0.   ,  0.   ,  0.   ,  0.775, -0.225,  0.   ,\n",
       "         0.   ,  0.   , -0.225,  0.   ,  0.   ,  0.   ,  0.   ,  0.   ,\n",
       "         0.   ,  0.   ,  0.   ,  0.   ,  0.   ,  0.   ,  0.   ,  0.   ,\n",
       "         0.   ],\n",
       "       [ 0.   , -0.225,  0.   ,  0.   ,  0.   , -0.225,  1.   , -0.225,\n",
       "         0.   ,  0.   ,  0.   , -0.225,  0.   ,  0.   ,  0.   ,  0.   ,\n",
       "         0.   ,  0.   ,  0.   ,  0.   ,  0.   ,  0.   ,  0.   ,  0.   ,\n",
       "         0.   ],\n",
       "       [ 0.   ,  0.   , -0.225,  0.   ,  0.   ,  0.   , -0.225,  1.   ,\n",
       "        -0.225,  0.   ,  0.   ,  0.   , -0.225,  0.   ,  0.   ,  0.   ,\n",
       "         0.   ,  0.   ,  0.   ,  0.   ,  0.   ,  0.   ,  0.   ,  0.   ,\n",
       "         0.   ],\n",
       "       [ 0.   ,  0.   ,  0.   , -0.225,  0.   ,  0.   ,  0.   , -0.225,\n",
       "         1.   , -0.225,  0.   ,  0.   ,  0.   , -0.225,  0.   ,  0.   ,\n",
       "         0.   ,  0.   ,  0.   ,  0.   ,  0.   ,  0.   ,  0.   ,  0.   ,\n",
       "         0.   ],\n",
       "       [ 0.   ,  0.   ,  0.   ,  0.   , -0.225,  0.   ,  0.   ,  0.   ,\n",
       "        -0.225,  0.775,  0.   ,  0.   ,  0.   ,  0.   , -0.225,  0.   ,\n",
       "         0.   ,  0.   ,  0.   ,  0.   ,  0.   ,  0.   ,  0.   ,  0.   ,\n",
       "         0.   ],\n",
       "       [ 0.   ,  0.   ,  0.   ,  0.   ,  0.   , -0.225,  0.   ,  0.   ,\n",
       "         0.   ,  0.   ,  0.775, -0.225,  0.   ,  0.   ,  0.   , -0.225,\n",
       "         0.   ,  0.   ,  0.   ,  0.   ,  0.   ,  0.   ,  0.   ,  0.   ,\n",
       "         0.   ],\n",
       "       [ 0.   ,  0.   ,  0.   ,  0.   ,  0.   ,  0.   , -0.225,  0.   ,\n",
       "         0.   ,  0.   , -0.225,  1.   , -0.225,  0.   ,  0.   ,  0.   ,\n",
       "        -0.225,  0.   ,  0.   ,  0.   ,  0.   ,  0.   ,  0.   ,  0.   ,\n",
       "         0.   ],\n",
       "       [ 0.   ,  0.   ,  0.   ,  0.   ,  0.   ,  0.   ,  0.   , -0.225,\n",
       "         0.   ,  0.   ,  0.   , -0.225,  1.   , -0.225,  0.   ,  0.   ,\n",
       "         0.   , -0.225,  0.   ,  0.   ,  0.   ,  0.   ,  0.   ,  0.   ,\n",
       "         0.   ],\n",
       "       [ 0.   ,  0.   ,  0.   ,  0.   ,  0.   ,  0.   ,  0.   ,  0.   ,\n",
       "        -0.225,  0.   ,  0.   ,  0.   , -0.225,  1.   , -0.225,  0.   ,\n",
       "         0.   ,  0.   , -0.225,  0.   ,  0.   ,  0.   ,  0.   ,  0.   ,\n",
       "         0.   ],\n",
       "       [ 0.   ,  0.   ,  0.   ,  0.   ,  0.   ,  0.   ,  0.   ,  0.   ,\n",
       "         0.   , -0.225,  0.   ,  0.   ,  0.   , -0.225,  0.775,  0.   ,\n",
       "         0.   ,  0.   ,  0.   , -0.225,  0.   ,  0.   ,  0.   ,  0.   ,\n",
       "         0.   ],\n",
       "       [ 0.   ,  0.   ,  0.   ,  0.   ,  0.   ,  0.   ,  0.   ,  0.   ,\n",
       "         0.   ,  0.   , -0.225,  0.   ,  0.   ,  0.   ,  0.   ,  0.775,\n",
       "        -0.225,  0.   ,  0.   ,  0.   , -0.225,  0.   ,  0.   ,  0.   ,\n",
       "         0.   ],\n",
       "       [ 0.   ,  0.   ,  0.   ,  0.   ,  0.   ,  0.   ,  0.   ,  0.   ,\n",
       "         0.   ,  0.   ,  0.   , -0.225,  0.   ,  0.   ,  0.   , -0.225,\n",
       "         1.   , -0.225,  0.   ,  0.   ,  0.   , -0.225,  0.   ,  0.   ,\n",
       "         0.   ],\n",
       "       [ 0.   ,  0.   ,  0.   ,  0.   ,  0.   ,  0.   ,  0.   ,  0.   ,\n",
       "         0.   ,  0.   ,  0.   ,  0.   , -0.225,  0.   ,  0.   ,  0.   ,\n",
       "        -0.225,  1.   , -0.225,  0.   ,  0.   ,  0.   , -0.225,  0.   ,\n",
       "         0.   ],\n",
       "       [ 0.   ,  0.   ,  0.   ,  0.   ,  0.   ,  0.   ,  0.   ,  0.   ,\n",
       "         0.   ,  0.   ,  0.   ,  0.   ,  0.   , -0.225,  0.   ,  0.   ,\n",
       "         0.   , -0.225,  1.   , -0.225,  0.   ,  0.   ,  0.   , -0.225,\n",
       "         0.   ],\n",
       "       [ 0.   ,  0.   ,  0.   ,  0.   ,  0.   ,  0.   ,  0.   ,  0.   ,\n",
       "         0.   ,  0.   ,  0.   ,  0.   ,  0.   ,  0.   , -0.225,  0.   ,\n",
       "         0.   ,  0.   , -0.225,  0.775,  0.   ,  0.   ,  0.   ,  0.   ,\n",
       "        -0.225],\n",
       "       [ 0.   ,  0.   ,  0.   ,  0.   ,  0.   ,  0.   ,  0.   ,  0.   ,\n",
       "         0.   ,  0.   ,  0.   ,  0.   ,  0.   ,  0.   ,  0.   , -0.225,\n",
       "         0.   ,  0.   ,  0.   ,  0.   ,  0.55 , -0.225,  0.   ,  0.   ,\n",
       "         0.   ],\n",
       "       [ 0.   ,  0.   ,  0.   ,  0.   ,  0.   ,  0.   ,  0.   ,  0.   ,\n",
       "         0.   ,  0.   ,  0.   ,  0.   ,  0.   ,  0.   ,  0.   ,  0.   ,\n",
       "        -0.225,  0.   ,  0.   ,  0.   , -0.225,  0.775, -0.225,  0.   ,\n",
       "         0.   ],\n",
       "       [ 0.   ,  0.   ,  0.   ,  0.   ,  0.   ,  0.   ,  0.   ,  0.   ,\n",
       "         0.   ,  0.   ,  0.   ,  0.   ,  0.   ,  0.   ,  0.   ,  0.   ,\n",
       "         0.   , -0.225,  0.   ,  0.   ,  0.   , -0.225,  0.775, -0.225,\n",
       "         0.   ],\n",
       "       [ 0.   ,  0.   ,  0.   ,  0.   ,  0.   ,  0.   ,  0.   ,  0.   ,\n",
       "         0.   ,  0.   ,  0.   ,  0.   ,  0.   ,  0.   ,  0.   ,  0.   ,\n",
       "         0.   ,  0.   , -0.225,  0.   ,  0.   ,  0.   , -0.225,  0.775,\n",
       "        -0.225],\n",
       "       [ 0.   ,  0.   ,  0.   ,  0.   ,  0.   ,  0.   ,  0.   ,  0.   ,\n",
       "         0.   ,  0.   ,  0.   ,  0.   ,  0.   ,  0.   ,  0.   ,  0.   ,\n",
       "         0.   ,  0.   ,  0.   , -0.225,  0.   ,  0.   ,  0.   , -0.225,\n",
       "         0.55 ]])"
      ]
     },
     "execution_count": 30,
     "metadata": {},
     "output_type": "execute_result"
    }
   ],
   "source": [
    "A"
   ]
  },
  {
   "cell_type": "code",
   "execution_count": 31,
   "metadata": {},
   "outputs": [
    {
     "data": {
      "text/plain": [
       "array([-0.5 , 10.  , -0.25,  5.  , -0.5 , -0.25,  0.  ,  0.  ,  0.  ,\n",
       "       -0.25, -0.25,  0.  ,  0.  ,  0.  , -0.25, -0.25,  0.  ,  0.  ,\n",
       "        0.  , -0.25, -0.5 , -0.25, -0.25, -0.25, -0.5 ])"
      ]
     },
     "execution_count": 31,
     "metadata": {},
     "output_type": "execute_result"
    }
   ],
   "source": [
    "b"
   ]
  },
  {
   "cell_type": "code",
   "execution_count": 32,
   "metadata": {},
   "outputs": [
    {
     "data": {
      "text/plain": [
       "25"
      ]
     },
     "execution_count": 32,
     "metadata": {},
     "output_type": "execute_result"
    }
   ],
   "source": [
    "np.linalg.matrix_rank(A)"
   ]
  },
  {
   "cell_type": "code",
   "execution_count": 33,
   "metadata": {},
   "outputs": [
    {
     "data": {
      "text/plain": [
       "array([[ 3.30899634,  8.78929186,  4.42761918,  5.32236759,  1.49217876],\n",
       "       [ 1.52158807,  2.99231786,  2.25013995,  1.9075717 ,  0.54740271],\n",
       "       [ 0.05082249,  0.73817059,  0.67311326,  0.35818621, -0.40314114],\n",
       "       [-0.9735923 , -0.43549543, -0.35488227, -0.58560509, -1.18307508],\n",
       "       [-1.85770055, -1.34523126, -1.22926726, -1.42291815, -1.97517905]])"
      ]
     },
     "execution_count": 33,
     "metadata": {},
     "output_type": "execute_result"
    }
   ],
   "source": [
    "policy_evaluation = np.linalg.solve(A, b).reshape((5, 5)); policy_evaluation"
   ]
  },
  {
   "cell_type": "markdown",
   "metadata": {},
   "source": [
    "### Costruzione di una policy migliore"
   ]
  },
  {
   "cell_type": "code",
   "execution_count": 37,
   "metadata": {},
   "outputs": [],
   "source": [
    "def get_better_policy(policy_evaluation, discount_factor):\n",
    "    '''Trova la policy migliore data una valiutazione degli stati\n",
    "    \n",
    "    Args\n",
    "    ----\n",
    "    policy_evaluation - una matrice numpy 5 x 5 con i valori degli stati (relativi ad una certa policy).\n",
    "                        In policy_evaluation[i, j] i è l'indice di riga (dall'alto verso il basso, da 0 a 4)\n",
    "                        e j è l'indice di colonna (da sinistra a destra, da 0 a 4)\n",
    "    discount_factor - il fattore di sconto        \n",
    "    \n",
    "    Return\n",
    "    ------\n",
    "    better_policy - La policy migliore dati i valori degli stati contenuto in policy_evaluation.\n",
    "    '''\n",
    "    def evaluate_actions(i, j):\n",
    "        if (i, j) == (0, 1):\n",
    "            val = 10 + policy_evaluation[4, 1]\n",
    "            return {\"L\" : val, \"R\" : val, \"U\" : val, \"D\" : val}\n",
    "        \n",
    "        if(i, j) == (0, 3):\n",
    "            val = 5 + policy_evaluation[2, 3]\n",
    "            return {\"L\" : val, \"R\" : val, \"U\" : val, \"D\" : val}\n",
    "        \n",
    "        values = dict()\n",
    "        for action in \"LRUD\":\n",
    "            di, dj = direction[action]\n",
    "            if 0<=i+di<=4 and 0<=j+dj<=4:\n",
    "                values[action] = discount_factor*policy_evaluation[i+di, j+dj]\n",
    "            else:\n",
    "                values[action] = -1 + discount_factor*policy_evaluation[i, j]\n",
    "        return values\n",
    "    \n",
    "    better_policy = dict()\n",
    "    for i in range(5):\n",
    "        for j in range(5):\n",
    "            action_values = evaluate_actions(i, j)\n",
    "            first_best_action = [action for action in action_values if action_values[action] \\\n",
    "                                == max(action_values.values())][0]\n",
    "            better_policy_actions = dict()\n",
    "            for action in \"LRUD\":\n",
    "                better_policy_actions[action] = 1 if action == first_best_action else 0\n",
    "            better_policy[(i, j)] = better_policy_actions\n",
    "            \n",
    "    return better_policy"
   ]
  },
  {
   "cell_type": "code",
   "execution_count": 38,
   "metadata": {},
   "outputs": [
    {
     "data": {
      "text/plain": [
       "{(0, 0): {'L': 0, 'R': 1, 'U': 0, 'D': 0},\n",
       " (0, 1): {'L': 1, 'R': 0, 'U': 0, 'D': 0},\n",
       " (0, 2): {'L': 1, 'R': 0, 'U': 0, 'D': 0},\n",
       " (0, 3): {'L': 1, 'R': 0, 'U': 0, 'D': 0},\n",
       " (0, 4): {'L': 1, 'R': 0, 'U': 0, 'D': 0},\n",
       " (1, 0): {'L': 0, 'R': 0, 'U': 1, 'D': 0},\n",
       " (1, 1): {'L': 0, 'R': 0, 'U': 1, 'D': 0},\n",
       " (1, 2): {'L': 0, 'R': 0, 'U': 1, 'D': 0},\n",
       " (1, 3): {'L': 0, 'R': 0, 'U': 1, 'D': 0},\n",
       " (1, 4): {'L': 1, 'R': 0, 'U': 0, 'D': 0},\n",
       " (2, 0): {'L': 0, 'R': 0, 'U': 1, 'D': 0},\n",
       " (2, 1): {'L': 0, 'R': 0, 'U': 1, 'D': 0},\n",
       " (2, 2): {'L': 0, 'R': 0, 'U': 1, 'D': 0},\n",
       " (2, 3): {'L': 0, 'R': 0, 'U': 1, 'D': 0},\n",
       " (2, 4): {'L': 0, 'R': 0, 'U': 1, 'D': 0},\n",
       " (3, 0): {'L': 0, 'R': 0, 'U': 1, 'D': 0},\n",
       " (3, 1): {'L': 0, 'R': 0, 'U': 1, 'D': 0},\n",
       " (3, 2): {'L': 0, 'R': 0, 'U': 1, 'D': 0},\n",
       " (3, 3): {'L': 0, 'R': 0, 'U': 1, 'D': 0},\n",
       " (3, 4): {'L': 0, 'R': 0, 'U': 1, 'D': 0},\n",
       " (4, 0): {'L': 0, 'R': 0, 'U': 1, 'D': 0},\n",
       " (4, 1): {'L': 0, 'R': 0, 'U': 1, 'D': 0},\n",
       " (4, 2): {'L': 0, 'R': 0, 'U': 1, 'D': 0},\n",
       " (4, 3): {'L': 0, 'R': 0, 'U': 1, 'D': 0},\n",
       " (4, 4): {'L': 0, 'R': 0, 'U': 1, 'D': 0}}"
      ]
     },
     "execution_count": 38,
     "metadata": {},
     "output_type": "execute_result"
    }
   ],
   "source": [
    "better_policy = get_better_policy(policy_evaluation, discount_factor=0.9); better_policy"
   ]
  },
  {
   "cell_type": "markdown",
   "metadata": {},
   "source": [
    "### Costruzione di una policy ottimale"
   ]
  },
  {
   "cell_type": "code",
   "execution_count": 39,
   "metadata": {},
   "outputs": [],
   "source": [
    "# Determina l'uguaglinza o meno di due policy\n",
    "def policies_are_equal(policy_1, policy_2):\n",
    "    for square, actions_dict in policy_1.items():\n",
    "        for action, value in actions_dict.items():\n",
    "            if policy_2[square][action] != value:\n",
    "                return False\n",
    "    return True"
   ]
  },
  {
   "cell_type": "code",
   "execution_count": 40,
   "metadata": {},
   "outputs": [
    {
     "data": {
      "text/plain": [
       "{(0, 0): {'L': 0, 'R': 1, 'U': 0, 'D': 0},\n",
       " (0, 1): {'L': 1, 'R': 0, 'U': 0, 'D': 0},\n",
       " (0, 2): {'L': 1, 'R': 0, 'U': 0, 'D': 0},\n",
       " (0, 3): {'L': 1, 'R': 0, 'U': 0, 'D': 0},\n",
       " (0, 4): {'L': 1, 'R': 0, 'U': 0, 'D': 0},\n",
       " (1, 0): {'L': 0, 'R': 1, 'U': 0, 'D': 0},\n",
       " (1, 1): {'L': 0, 'R': 0, 'U': 1, 'D': 0},\n",
       " (1, 2): {'L': 1, 'R': 0, 'U': 0, 'D': 0},\n",
       " (1, 3): {'L': 1, 'R': 0, 'U': 0, 'D': 0},\n",
       " (1, 4): {'L': 1, 'R': 0, 'U': 0, 'D': 0},\n",
       " (2, 0): {'L': 0, 'R': 0, 'U': 1, 'D': 0},\n",
       " (2, 1): {'L': 0, 'R': 0, 'U': 1, 'D': 0},\n",
       " (2, 2): {'L': 1, 'R': 0, 'U': 0, 'D': 0},\n",
       " (2, 3): {'L': 1, 'R': 0, 'U': 0, 'D': 0},\n",
       " (2, 4): {'L': 1, 'R': 0, 'U': 0, 'D': 0},\n",
       " (3, 0): {'L': 0, 'R': 1, 'U': 0, 'D': 0},\n",
       " (3, 1): {'L': 0, 'R': 0, 'U': 1, 'D': 0},\n",
       " (3, 2): {'L': 1, 'R': 0, 'U': 0, 'D': 0},\n",
       " (3, 3): {'L': 1, 'R': 0, 'U': 0, 'D': 0},\n",
       " (3, 4): {'L': 1, 'R': 0, 'U': 0, 'D': 0},\n",
       " (4, 0): {'L': 0, 'R': 1, 'U': 0, 'D': 0},\n",
       " (4, 1): {'L': 0, 'R': 0, 'U': 1, 'D': 0},\n",
       " (4, 2): {'L': 1, 'R': 0, 'U': 0, 'D': 0},\n",
       " (4, 3): {'L': 0, 'R': 0, 'U': 1, 'D': 0},\n",
       " (4, 4): {'L': 1, 'R': 0, 'U': 0, 'D': 0}}"
      ]
     },
     "execution_count": 40,
     "metadata": {},
     "output_type": "execute_result"
    }
   ],
   "source": [
    "# iteriamo lo step di valutazione e quello di miglioramento fino a convergenza\n",
    "policy = get_uniform_random_policy()\n",
    "discount_factor = 0.9\n",
    "\n",
    "while True:\n",
    "    A, b = create_system_coefficients(policy, discount_factor)\n",
    "    policy_evaluation = np.linalg.solve(A, b).reshape((5, 5))\n",
    "    new_policy = get_better_policy(policy_evaluation, discount_factor)\n",
    "    if policies_are_equal(policy, new_policy):\n",
    "        break\n",
    "    else:\n",
    "        policy = new_policy\n",
    "policy"
   ]
  },
  {
   "cell_type": "code",
   "execution_count": null,
   "metadata": {},
   "outputs": [],
   "source": []
  }
 ],
 "metadata": {
  "kernelspec": {
   "display_name": "Python 3",
   "language": "python",
   "name": "python3"
  },
  "language_info": {
   "codemirror_mode": {
    "name": "ipython",
    "version": 3
   },
   "file_extension": ".py",
   "mimetype": "text/x-python",
   "name": "python",
   "nbconvert_exporter": "python",
   "pygments_lexer": "ipython3",
   "version": "3.7.3"
  }
 },
 "nbformat": 4,
 "nbformat_minor": 2
}
