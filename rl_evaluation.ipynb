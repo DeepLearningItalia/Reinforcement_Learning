{
 "cells": [
  {
   "cell_type": "code",
   "execution_count": null,
   "metadata": {
    "ExecuteTime": {
     "end_time": "2021-02-12T14:20:11.472786Z",
     "start_time": "2021-02-12T14:20:11.441112Z"
    }
   },
   "outputs": [],
   "source": [
    "import numpy as np\n",
    "from collections import defaultdict\n",
    "import random"
   ]
  },
  {
   "cell_type": "markdown",
   "metadata": {},
   "source": [
    "# Regole del Blackjack\n",
    "\n",
    "![](img/blackjack.png)\n",
    "\n",
    "\n",
    "* Si usano le carte **francesi**.\n",
    "* Le figure (**J**, **K**, **Q**) valgono 10, l'asso può valere 1 o 11. Le altre carte hanno il valore naturale.\n",
    "* All'inizio vengono assegnate due carte al banco e due al giocatore. La prima carta del banco è scoperta.\n",
    "* Il punteggio è dato dalla somma delle carte (con l'asso che può valere 1 o 11). \n",
    "* Un punteggio superiore a 21 non è valido. In questo caso si dice che il giocatore (o il banco) ha *sballato*.\n",
    "* Se le due carte iniziali sono un asso e una carta con valore 10 (10 o figura) si ha il **Blackjack**.\n",
    "* Il giocatore può chiedere, una per volta, tutte le carte che vuole.\n",
    "* Se il giocatore non ha sballato (vittoria del banco) il banco estrae le carte usando una strategia fissata, ad esempio fermandosi quando il punteggio è almeno 17.\n",
    "* Alla fine vince chi ha un punteggio maggiore, con possibile parità."
   ]
  },
  {
   "cell_type": "code",
   "execution_count": null,
   "metadata": {
    "ExecuteTime": {
     "end_time": "2021-02-12T14:20:15.141138Z",
     "start_time": "2021-02-12T14:20:15.118137Z"
    }
   },
   "outputs": [],
   "source": [
    "class BlackjackEnv:\n",
    "    cards = [1, 2, 3, 4, 5, 6, 7, 8, 9, 10, 10, 10, 10]\n",
    "\n",
    "    def __init__(self):\n",
    "        self.done = True\n",
    "\n",
    "    def _take_card(self):\n",
    "        ''' Estrae una carta'''\n",
    "        return random.choice(self.cards)\n",
    "\n",
    "    def _score(self, cards):\n",
    "        if sum(cards) > 21:\n",
    "            # sballato\n",
    "            return 0\n",
    "        elif len(cards) == 2 and 1 in cards and 10 in cards:\n",
    "            # Blackjack\n",
    "            return 22\n",
    "        else:\n",
    "            return sum(cards) if not self._is_usable_ace(cards) else sum(cards) + 10\n",
    "\n",
    "    def _is_usable_ace(self, cards):\n",
    "        ''' Se c'è un asso utilizzabile come 11'''\n",
    "        return 1 in cards and sum(cards) <= 11\n",
    "\n",
    "    def _dealer_get_cards(self):\n",
    "        ''' Implementa la policy del banco'''\n",
    "        while 0 < self._score(self.dealer_cards) <= 16:\n",
    "            # prendi ancora una carta se non hai sballato\n",
    "            # e il punteggio è minore o uguale a 16\n",
    "            self.dealer_cards.append(self._take_card())\n",
    "\n",
    "        return self.dealer_cards\n",
    "\n",
    "    def reset(self):\n",
    "        ''' Stato iniziale della partita'''\n",
    "        self.done = False\n",
    "        # due carte ciascuno\n",
    "        self.dealer_cards = [self._take_card(), self._take_card()]\n",
    "        self.player_cards = [self._take_card(), self._take_card()]\n",
    "\n",
    "        state = (self.dealer_cards[0], self._score(self.player_cards), self._is_usable_ace(self.player_cards))\n",
    "\n",
    "        return state\n",
    "\n",
    "    def step(self, ask_card):\n",
    "        ''' Azione di gioco'''\n",
    "        if self.done:\n",
    "            raise Exception('Il gioco è terminato. Chiamare reset per cominciare un nuovo gioco')\n",
    "\n",
    "        # Il giocatore chiede una carta o si ferma.\n",
    "        # Sono le due azioni possibili\n",
    "        if ask_card:\n",
    "            # giocatore richiede nuova carta\n",
    "            self.player_cards.append(self._take_card())\n",
    "            if self._score(self.player_cards) > 0:\n",
    "                # punteggio valido dopo la nuova estrazione\n",
    "                reward = 0\n",
    "                self.done = False\n",
    "            else:\n",
    "                # il giocatore ha sballato, vince il banco\n",
    "                reward = -1\n",
    "                self.done = True\n",
    "        else:\n",
    "            # giocatore si ferma, tocca al banco\n",
    "            self.done = True\n",
    "            player_score = self._score(self.player_cards)\n",
    "            dealer_score = self._score(self._dealer_get_cards())\n",
    "            # punteggio del giocatore\n",
    "            if player_score < dealer_score:\n",
    "                reward = -1\n",
    "            elif player_score > dealer_score:\n",
    "                reward = 1\n",
    "            else:\n",
    "                reward = 0\n",
    "                \n",
    "        if self.done:\n",
    "            # stato terminale\n",
    "            state = None, None, None\n",
    "        else:\n",
    "            state = (self.dealer_cards[0], self._score(self.player_cards), self._is_usable_ace(self.player_cards))\n",
    "\n",
    "        return state, reward, self.done"
   ]
  },
  {
   "cell_type": "code",
   "execution_count": null,
   "metadata": {
    "ExecuteTime": {
     "end_time": "2021-02-12T14:20:15.826498Z",
     "start_time": "2021-02-12T14:20:15.812500Z"
    },
    "code_folding": [],
    "run_control": {
     "marked": true
    }
   },
   "outputs": [],
   "source": [
    "def generate_episode(environment, policy):\n",
    "    ''' Genera un episodio ustilizzando la policy passata come argomento'''\n",
    "    states, actions, rewards = [], [], []\n",
    "    state = environment.reset()\n",
    "    done = False\n",
    "    while not done:\n",
    "        action = policy.get_action(state)\n",
    "        new_state, reward, done = environment.step(action)\n",
    "        states.append(state)\n",
    "        actions.append(action)\n",
    "        rewards.append(reward)\n",
    "        state = new_state\n",
    "\n",
    "    return states, actions, rewards"
   ]
  },
  {
   "cell_type": "code",
   "execution_count": null,
   "metadata": {
    "ExecuteTime": {
     "end_time": "2021-02-12T14:20:16.605396Z",
     "start_time": "2021-02-12T14:20:16.588393Z"
    }
   },
   "outputs": [],
   "source": [
    "class PlayerPolicy:\n",
    "    ''' Strategia di gioco del giocatore'''\n",
    "    def get_action(self, state):\n",
    "        dealer_first_card, player_score, is_usable_ace = state\n",
    "        if player_score <= 17:\n",
    "            # chiede un'altra carta\n",
    "            return True\n",
    "        else:\n",
    "            # sta\n",
    "            return False"
   ]
  },
  {
   "cell_type": "code",
   "execution_count": null,
   "metadata": {
    "ExecuteTime": {
     "end_time": "2021-02-12T14:20:17.359887Z",
     "start_time": "2021-02-12T14:20:17.339895Z"
    }
   },
   "outputs": [],
   "source": [
    "def mc_v_estimation(environment, policy, num_episodes, first_visit, gamma):\n",
    "    '''Stima la funzione di valore di stato V di una policy con metodo Montecarlo\n",
    "\n",
    "    args\n",
    "    ----\n",
    "    environment  - un ambiente Gym\n",
    "    policy       - un oggetto che implementa il metodo get_action.\n",
    "                   get_action prende come argomento uno stato e ritorna un'azione\n",
    "    num_episodes - numero di episodi da generare\n",
    "    first_visit  - se True implementa first_visit Monecarlo, altrimenti every visit\n",
    "    gamma        - fattore di sconto\n",
    "    \n",
    "    rets\n",
    "    ----\n",
    "    V            - un dizionario che rappresenta la funzione di valore di stato V,\n",
    "                   nella forma {state: value, ...}'''\n",
    "    return V"
   ]
  },
  {
   "cell_type": "code",
   "execution_count": null,
   "metadata": {
    "ExecuteTime": {
     "end_time": "2021-02-12T14:20:19.676724Z",
     "start_time": "2021-02-12T14:20:17.916499Z"
    },
    "tags": []
   },
   "outputs": [],
   "source": [
    "V_mc = mc_v_estimation(BlackjackEnv(), PlayerPolicy(), num_episodes=100_000, first_visit=True, gamma=0.99)"
   ]
  },
  {
   "cell_type": "code",
   "execution_count": null,
   "metadata": {
    "ExecuteTime": {
     "end_time": "2021-02-12T14:20:20.309343Z",
     "start_time": "2021-02-12T14:20:20.244340Z"
    }
   },
   "outputs": [],
   "source": [
    "V_mc"
   ]
  },
  {
   "cell_type": "code",
   "execution_count": null,
   "metadata": {
    "ExecuteTime": {
     "end_time": "2021-02-12T14:21:02.077029Z",
     "start_time": "2021-02-12T14:21:02.061403Z"
    }
   },
   "outputs": [],
   "source": [
    "def td_0_v_estimation(environment, policy, num_episodes, gamma, alpha):\n",
    "    '''Stima la funzione di valore di stato V di una policy con metodo TD(0)\n",
    "\n",
    "    args\n",
    "    ----\n",
    "    environment  - un ambiente Gym\n",
    "    policy       - un oggetto che implementa il metodo get_action.\n",
    "                   get_action prende come argomento uno stato e ritorna un'azione\n",
    "    num_episodes - numero di episodi da generare\n",
    "    gamma        - fattore di sconto\n",
    "    alpha        - coefficiente di aggiornamento\n",
    "    \n",
    "    rets\n",
    "    ----\n",
    "    V            - un dizionario che rappresenta la funzione di valore di stato V,\n",
    "                   nella forma {state: value, ...}'''\n",
    "                   \n",
    "    return V"
   ]
  },
  {
   "cell_type": "code",
   "execution_count": null,
   "metadata": {
    "ExecuteTime": {
     "end_time": "2021-02-12T14:21:04.812129Z",
     "start_time": "2021-02-12T14:21:02.828454Z"
    }
   },
   "outputs": [],
   "source": [
    "V_td = td_0_v_estimation(BlackjackEnv(), PlayerPolicy(), num_episodes=100_000, gamma=0.9, alpha=0.1)"
   ]
  },
  {
   "cell_type": "code",
   "execution_count": null,
   "metadata": {
    "ExecuteTime": {
     "end_time": "2021-02-12T14:21:04.875536Z",
     "start_time": "2021-02-12T14:21:04.831541Z"
    }
   },
   "outputs": [],
   "source": [
    "V_td"
   ]
  },
  {
   "cell_type": "code",
   "execution_count": null,
   "metadata": {
    "ExecuteTime": {
     "end_time": "2021-02-12T14:21:34.687520Z",
     "start_time": "2021-02-12T14:21:34.663522Z"
    }
   },
   "outputs": [],
   "source": [
    "def td_n_v_estimation(n, environment, policy, num_episodes, gamma, alpha):\n",
    "    '''Stima la funzione di valore di stato V di una policy con metodo n-step TD\n",
    "\n",
    "    args\n",
    "    ----\n",
    "    n            - il valore di n per il metodo TD\n",
    "    environment  - un ambiente Gym\n",
    "    policy       - un oggetto che implementa il metodo get_action.\n",
    "                   get_action prende come argomento uno stato e ritorna un'azione\n",
    "    num_episodes - numero di episodi da generare\n",
    "    first_visit  - se True implementa first_visit Monecarlo, altrimenti every visit\n",
    "    gamma        - fattore di sconto\n",
    "    alpha        - coefficiente di aggiornamento\n",
    "    \n",
    "    rets\n",
    "    ----\n",
    "    V            - un dizionario che rappresenta la funzione di valore di stato V,\n",
    "                   nella forma {state: value, ...}'''\n",
    "\n",
    "\n",
    "    return V "
   ]
  },
  {
   "cell_type": "code",
   "execution_count": null,
   "metadata": {
    "ExecuteTime": {
     "end_time": "2021-02-12T14:21:37.983924Z",
     "start_time": "2021-02-12T14:21:35.220568Z"
    }
   },
   "outputs": [],
   "source": [
    "V_td_n = td_n_v_estimation(5, BlackjackEnv(), PlayerPolicy(), num_episodes=100_000, gamma=0.9, alpha=0.1)"
   ]
  },
  {
   "cell_type": "code",
   "execution_count": null,
   "metadata": {
    "ExecuteTime": {
     "end_time": "2021-02-12T14:21:38.817912Z",
     "start_time": "2021-02-12T14:21:38.756910Z"
    }
   },
   "outputs": [],
   "source": [
    "V_td_n"
   ]
  }
 ],
 "metadata": {
  "kernelspec": {
   "display_name": "Python 3",
   "language": "python",
   "name": "python3"
  },
  "language_info": {
   "codemirror_mode": {
    "name": "ipython",
    "version": 3
   },
   "file_extension": ".py",
   "mimetype": "text/x-python",
   "name": "python",
   "nbconvert_exporter": "python",
   "pygments_lexer": "ipython3",
   "version": "3.8.5-final"
  },
  "latex_envs": {
   "LaTeX_envs_menu_present": true,
   "autoclose": true,
   "autocomplete": true,
   "bibliofile": "biblio.bib",
   "cite_by": "apalike",
   "current_citInitial": 1,
   "eqLabelWithNumbers": true,
   "eqNumInitial": 1,
   "hotkeys": {
    "equation": "Ctrl-E",
    "itemize": "Ctrl-I"
   },
   "labels_anchors": false,
   "latex_user_defs": false,
   "report_style_numbering": false,
   "user_envs_cfg": false
  },
  "varInspector": {
   "cols": {
    "lenName": 16,
    "lenType": 16,
    "lenVar": 40
   },
   "kernels_config": {
    "python": {
     "delete_cmd_postfix": "",
     "delete_cmd_prefix": "del ",
     "library": "var_list.py",
     "varRefreshCmd": "print(var_dic_list())"
    },
    "r": {
     "delete_cmd_postfix": ") ",
     "delete_cmd_prefix": "rm(",
     "library": "var_list.r",
     "varRefreshCmd": "cat(var_dic_list()) "
    }
   },
   "types_to_exclude": [
    "module",
    "function",
    "builtin_function_or_method",
    "instance",
    "_Feature"
   ],
   "window_display": false
  }
 },
 "nbformat": 4,
 "nbformat_minor": 2
}