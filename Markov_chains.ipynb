{
 "cells": [
  {
   "cell_type": "markdown",
   "metadata": {},
   "source": [
    "# Markov Chains"
   ]
  },
  {
   "cell_type": "code",
   "execution_count": null,
   "metadata": {
    "ExecuteTime": {
     "end_time": "2020-05-15T13:21:56.693171Z",
     "start_time": "2020-05-15T13:21:56.441532Z"
    }
   },
   "outputs": [],
   "source": [
    "%matplotlib notebook"
   ]
  },
  {
   "cell_type": "code",
   "execution_count": null,
   "metadata": {
    "ExecuteTime": {
     "end_time": "2020-05-15T13:21:58.079264Z",
     "start_time": "2020-05-15T13:21:57.189483Z"
    }
   },
   "outputs": [],
   "source": [
    "import ipywidgets as widgets\n",
    "import random\n",
    "import matplotlib.pyplot as plt\n",
    "import networkx as nx\n",
    "import time\n",
    "import asyncio\n",
    "import threading\n",
    "import spacy\n",
    "from tqdm import tqdm\n",
    "from pathlib import Path\n",
    "from collections import Counter, defaultdict\n",
    "import re\n",
    "import os"
   ]
  },
  {
   "cell_type": "code",
   "execution_count": null,
   "metadata": {
    "ExecuteTime": {
     "end_time": "2020-05-15T13:21:58.112147Z",
     "start_time": "2020-05-15T13:21:58.103173Z"
    },
    "run_control": {
     "marked": false
    }
   },
   "outputs": [],
   "source": [
    "class MarkovChain:\n",
    "    \n",
    "    def __init__(self, states, P, phi):\n",
    "        '''\n",
    "        args\n",
    "        ----\n",
    "        states - stati\n",
    "        P - matrice delle probabilità di transizione \n",
    "        phi - se phi è una lista phi[i] è la probabilità che il primo stato sia i,\n",
    "            altrimenti è lo stato di partenza\n",
    "        '''\n",
    "        self.n = len(states)  # numero di stati della MC\n",
    "        self.P = P  # matrice di transizione\n",
    "        self.states = states\n",
    "\n",
    "        self.freqs = defaultdict(int)  # frequenze delle visite agli stati\n",
    "        if isinstance(phi, list):\n",
    "            self.state = random.choices(states, weights=phi, k=1)[0]\n",
    "        else:\n",
    "            self.state = phi\n",
    "        self.freqs[self.state] += 1\n",
    "        \n",
    "        self.steps_num = 1\n",
    "        \n",
    "    def get_state_idx(self):\n",
    "        return self.states.index(self.state)\n",
    "\n",
    "    def step(self):\n",
    "        ''' esegue una transizione'''\n",
    "        current_state_transition_freqs = [self.P[self.state][state] for state in self.states]\n",
    "        self.state = random.choices(self.states, weights=current_state_transition_freqs, k=1)[0]\n",
    "        self.freqs[self.state] += 1\n",
    "        self.steps_num += 1\n",
    "        return self.state\n",
    "\n",
    "    def get_absolute_freqs(self):\n",
    "        ''' ritorna le frequenze assolute degli stati'''\n",
    "        return self.freqs"
   ]
  },
  {
   "cell_type": "markdown",
   "metadata": {
    "ExecuteTime": {
     "end_time": "2020-05-15T13:16:21.799633Z",
     "start_time": "2020-05-15T13:16:21.795644Z"
    },
    "code_folding": []
   },
   "source": [
    "# Simulatore"
   ]
  },
  {
   "cell_type": "code",
   "execution_count": null,
   "metadata": {
    "ExecuteTime": {
     "end_time": "2020-05-15T13:21:59.789690Z",
     "start_time": "2020-05-15T13:21:59.750798Z"
    },
    "code_folding": []
   },
   "outputs": [],
   "source": [
    "class McApp:\n",
    "    ''' Simulatore di Markov Chain'''\n",
    "    def __init__(self, states, P, phi):\n",
    "        self.n = len(states)  # numero di stati\n",
    "        self.P = P\n",
    "        self.states = states\n",
    "        self.mc = MarkovChain(states, P, phi)\n",
    "        self.G = self.build_graph()\n",
    "        self.pos = nx.circular_layout(self.G)  # layout del grafo\n",
    "        self.show_interface()\n",
    "        self.pause = True\n",
    "        self.speed = 1\n",
    "        self.play_thread = None\n",
    "\n",
    "    def play(self):\n",
    "        while not self.pause:\n",
    "            self.step()\n",
    "            time.sleep(1 / self.speed)\n",
    "\n",
    "    def on_play_button_clicked(self, button):\n",
    "        if self.pause == True:\n",
    "            self.pause = False\n",
    "            self.play_thread = threading.Thread(target=self.play)\n",
    "            self.play_thread.start()\n",
    "\n",
    "    def on_pause_button_clicked(self, button):\n",
    "        self.pause = True\n",
    "\n",
    "    def on_step_button_clicked(self, button):\n",
    "        self.step()\n",
    "\n",
    "    def step(self):\n",
    "        self.mc.step()\n",
    "        self.refresh_interface()\n",
    "\n",
    "    def refresh_interface(self):\n",
    "        steps = self.mc.steps_num\n",
    "        freqs_dict = self.mc.get_absolute_freqs()\n",
    "        abs_freqs = [freqs_dict[state] for state in self.states]\n",
    "        perc_freqs = [abs_freq / steps * 100 for abs_freq in abs_freqs]\n",
    "        self.steps_counter.value += 1\n",
    "\n",
    "        for abs_freq, abs_freq_out in zip(abs_freqs, self.abs_freq_outs):\n",
    "            abs_freq_out.value = str(abs_freq)\n",
    "\n",
    "        for perc_freq, perc_freq_out in zip(perc_freqs, self.perc_freq_outs):\n",
    "            perc_freq_out.value = f'{perc_freq:.2f}'\n",
    "\n",
    "        if self.pause or self.speed < 5:\n",
    "            self.show_graph()\n",
    "\n",
    "    def on_speed_change(self, value):\n",
    "        self.speed = value['new']\n",
    "\n",
    "    def show_interface(self):\n",
    "        self.fig, self.ax = plt.subplots(1, 1)\n",
    "        self.fig.show()\n",
    "\n",
    "        cmds_grid = self.build_cmd_grid()\n",
    "        outs_grid = self.build_output_grid()\n",
    "        display(cmds_grid, outs_grid)\n",
    "        self.show_graph()\n",
    "\n",
    "    def build_output_grid(self):\n",
    "        def add_outs_to_layout():\n",
    "            outs_grid[0, 0] = title\n",
    "            outs_grid[1, 0] = self.steps_counter\n",
    "            outs_grid[3, 0] = row2_label\n",
    "            outs_grid[4, 0] = row3_label\n",
    "\n",
    "        # layout\n",
    "        outs_grid = widgets.GridspecLayout(5, 1 + self.n)\n",
    "\n",
    "        title = widgets.Label(value='Statistiche')\n",
    "        row2_label = widgets.Label(value='Visite')\n",
    "        row3_label = widgets.Label(value='Visite (%)')\n",
    "\n",
    "        # step counter\n",
    "        self.steps_counter = widgets.IntText(value=1,\n",
    "                                             description='Step',\n",
    "                                             disabled=True)\n",
    "\n",
    "        # stati\n",
    "        for i in range(self.n):\n",
    "            outs_grid[2, i + 1] = widgets.Label(value=str(i))\n",
    "\n",
    "        # inizializza frequenze assoute e relative\n",
    "        self.abs_freq_outs = []\n",
    "        self.perc_freq_outs = []\n",
    "        for i in range(self.n):\n",
    "            abs_freq_label = widgets.Label(value=str(0))\n",
    "            self.abs_freq_outs.append(abs_freq_label)\n",
    "            outs_grid[3, i + 1] = abs_freq_label\n",
    "\n",
    "            perc_freq_label = widgets.Label(value=str(0))\n",
    "            self.perc_freq_outs.append(perc_freq_label)\n",
    "            outs_grid[4, i + 1] = perc_freq_label\n",
    "\n",
    "        add_outs_to_layout()\n",
    "\n",
    "        return outs_grid\n",
    "\n",
    "    def build_cmd_grid(self):\n",
    "        def add_cmds_to_layout():\n",
    "            cmds_grid[0, 0] = play_button\n",
    "            cmds_grid[0, 1] = pause_button\n",
    "            cmds_grid[0, 2] = step_button\n",
    "            cmds_grid[0, 3] = speed_field\n",
    "\n",
    "        play_button = widgets.Button(description='Play')\n",
    "        play_button.on_click(self.on_play_button_clicked)\n",
    "        pause_button = widgets.Button(description='Pause')\n",
    "        pause_button.on_click(self.on_pause_button_clicked)\n",
    "        step_button = widgets.Button(description='Step')\n",
    "        step_button.on_click(self.on_step_button_clicked)\n",
    "        speed_field = widgets.IntSlider(value=1, min=1, max=1000)\n",
    "        speed_field.observe(self.on_speed_change, names='value')\n",
    "\n",
    "        # layout\n",
    "        cmds_grid = widgets.GridspecLayout(1, 5)\n",
    "        add_cmds_to_layout()\n",
    "\n",
    "        return cmds_grid\n",
    "\n",
    "    def build_graph(self):\n",
    "        G = nx.DiGraph()\n",
    "        # aggiunge i nodi\n",
    "        for state in self.states:\n",
    "            G.add_node(state)\n",
    "        # aggiunge gli archi\n",
    "        for state1 in self.states:\n",
    "            for state2 in self.states:\n",
    "                if self.P[state1][state2] > 0:\n",
    "                    G.add_edge(state1, state2)\n",
    "\n",
    "        return G\n",
    "\n",
    "    def show_graph(self):\n",
    "        node_colors = ['b'] * self.n\n",
    "        node_colors[self.mc.get_state_idx()] = 'r'\n",
    "        nx.draw_networkx(self.G,\n",
    "                         node_color=node_colors,\n",
    "                         ax=self.ax,\n",
    "                         pos=self.pos,\n",
    "                         with_labels=True)\n"
   ]
  },
  {
   "cell_type": "markdown",
   "metadata": {},
   "source": [
    "<img src=\"img/markov_chain.png\" alt=\"markov chain\" style=\"width: 600px;\"/>"
   ]
  },
  {
   "cell_type": "code",
   "execution_count": null,
   "metadata": {
    "ExecuteTime": {
     "end_time": "2020-05-15T13:22:00.333080Z",
     "start_time": "2020-05-15T13:22:00.328090Z"
    }
   },
   "outputs": [],
   "source": [
    "# stati\n",
    "S = [0, 1, 2]\n",
    "\n",
    "# matrice di transizione\n",
    "P = [\n",
    "    [0.7, 0.3, 0],\n",
    "    [0.4, 0.5, 0.1],\n",
    "    [0.7, 0.2, 0.1]\n",
    "]\n",
    "\n",
    "# probabilità iniziali\n",
    "phi = [0.3, 0.3, 0.4]"
   ]
  },
  {
   "cell_type": "code",
   "execution_count": null,
   "metadata": {
    "ExecuteTime": {
     "end_time": "2020-05-15T13:22:00.980255Z",
     "start_time": "2020-05-15T13:22:00.727932Z"
    }
   },
   "outputs": [],
   "source": [
    "app = McApp(S, P, phi)"
   ]
  },
  {
   "cell_type": "markdown",
   "metadata": {},
   "source": [
    "# Generatore di testo"
   ]
  },
  {
   "cell_type": "code",
   "execution_count": null,
   "metadata": {
    "ExecuteTime": {
     "end_time": "2020-05-15T13:22:02.908550Z",
     "start_time": "2020-05-15T13:22:02.904560Z"
    }
   },
   "outputs": [],
   "source": [
    "CORPUS_FOLDER = r'testi_italiano'"
   ]
  },
  {
   "cell_type": "code",
   "execution_count": null,
   "metadata": {
    "ExecuteTime": {
     "end_time": "2020-05-15T13:22:03.865811Z",
     "start_time": "2020-05-15T13:22:03.854874Z"
    }
   },
   "outputs": [],
   "source": [
    "def load_corpus(folder):\n",
    "    big_string = ''\n",
    "    nlp = spacy.load(\"it_core_news_sm\")\n",
    "    nlp.max_length = 20000000 \n",
    "    files = os.listdir(folder)\n",
    "    for file in files:\n",
    "        with open(Path(folder) / file, encoding='utf8') as f:\n",
    "            big_string += f.read().lower()\n",
    "            \n",
    "    pattern = re.compile(r'\\s+')\n",
    "    big_string = re.sub(pattern, ' ', big_string)\n",
    "    corpus = nlp(big_string, disable=['parser', 'tagger', 'ner'])\n",
    "\n",
    "    counters = defaultdict(Counter)\n",
    "    word_counter = Counter(word.text.lower() for word in corpus)\n",
    "    for word, next_word in zip(corpus[:-1], corpus[1:]):\n",
    "        word, next_word = word.text.lower(), next_word.text.lower()\n",
    "        counters[word][next_word] += 1\n",
    "        \n",
    "    return list(set(word.text.lower() for word in corpus)), counters"
   ]
  },
  {
   "cell_type": "code",
   "execution_count": null,
   "metadata": {
    "ExecuteTime": {
     "end_time": "2020-05-15T13:22:40.860269Z",
     "start_time": "2020-05-15T13:22:04.260828Z"
    }
   },
   "outputs": [],
   "source": [
    "words, counters = load_corpus(CORPUS_FOLDER)"
   ]
  },
  {
   "cell_type": "code",
   "execution_count": null,
   "metadata": {
    "ExecuteTime": {
     "end_time": "2020-05-15T13:22:43.048516Z",
     "start_time": "2020-05-15T13:22:43.043526Z"
    }
   },
   "outputs": [],
   "source": [
    "mc = MarkovChain(words, counters, 'la')"
   ]
  },
  {
   "cell_type": "code",
   "execution_count": null,
   "metadata": {
    "ExecuteTime": {
     "end_time": "2020-05-15T13:22:48.889712Z",
     "start_time": "2020-05-15T13:22:45.213541Z"
    }
   },
   "outputs": [],
   "source": [
    "string = mc.state\n",
    "for i in range(100):\n",
    "    string += ' ' + mc.step()\n",
    "print(string)"
   ]
  }
 ],
 "metadata": {
  "kernelspec": {
   "display_name": "Python 3",
   "language": "python",
   "name": "python3"
  },
  "language_info": {
   "codemirror_mode": {
    "name": "ipython",
    "version": 3
   },
   "file_extension": ".py",
   "mimetype": "text/x-python",
   "name": "python",
   "nbconvert_exporter": "python",
   "pygments_lexer": "ipython3",
   "version": "3.7.4"
  },
  "latex_envs": {
   "LaTeX_envs_menu_present": true,
   "autoclose": true,
   "autocomplete": true,
   "bibliofile": "biblio.bib",
   "cite_by": "apalike",
   "current_citInitial": 1,
   "eqLabelWithNumbers": true,
   "eqNumInitial": 1,
   "hotkeys": {
    "equation": "Ctrl-E",
    "itemize": "Ctrl-I"
   },
   "labels_anchors": false,
   "latex_user_defs": false,
   "report_style_numbering": false,
   "user_envs_cfg": false
  },
  "varInspector": {
   "cols": {
    "lenName": 16,
    "lenType": 16,
    "lenVar": 40
   },
   "kernels_config": {
    "python": {
     "delete_cmd_postfix": "",
     "delete_cmd_prefix": "del ",
     "library": "var_list.py",
     "varRefreshCmd": "print(var_dic_list())"
    },
    "r": {
     "delete_cmd_postfix": ") ",
     "delete_cmd_prefix": "rm(",
     "library": "var_list.r",
     "varRefreshCmd": "cat(var_dic_list()) "
    }
   },
   "types_to_exclude": [
    "module",
    "function",
    "builtin_function_or_method",
    "instance",
    "_Feature"
   ],
   "window_display": false
  }
 },
 "nbformat": 4,
 "nbformat_minor": 4
}
